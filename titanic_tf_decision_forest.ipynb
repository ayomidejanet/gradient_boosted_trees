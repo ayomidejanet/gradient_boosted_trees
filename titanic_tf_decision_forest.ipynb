{
 "cells": [
  {
   "cell_type": "markdown",
   "id": "3435f2bc-8a6e-4593-9429-80258c6ffaef",
   "metadata": {},
   "source": [
    "### Titanic competition with TensorFlow Decision Forests\n",
    "Task: to train a baseline Gradient Boosted Trees Model using TensorFlow Decision Forests and creating a submission on the Titanic competition.\n",
    "\n",
    "Steps involved:\n",
    "- basic pre-processing. For example, the passenger names will be tokenized, and ticket names will be splitted in parts.\n",
    "- how to train a Gradient Boosted Trees (GBT) with default parameters\n",
    "- how to train a GBT with improved default parameters\n",
    "- how to tune the parameters of a GBTs\n",
    "- how to train and ensemble many GBTs"
   ]
  },
  {
   "cell_type": "code",
   "execution_count": 3,
   "id": "a59a07c6-b8c8-45b2-814c-e9bbdd71b02c",
   "metadata": {
    "tags": []
   },
   "outputs": [
    {
     "name": "stdout",
     "output_type": "stream",
     "text": [
      "Found TF-DF 1.4.0\n"
     ]
    }
   ],
   "source": [
    "import numpy as np\n",
    "import pandas as pd\n",
    "import os\n",
    "\n",
    "import tensorflow as tf\n",
    "import tensorflow_decision_forests as tfdf\n",
    "\n",
    "print(f\"Found TF-DF {tfdf.__version__}\")"
   ]
  },
  {
   "cell_type": "code",
   "execution_count": 4,
   "id": "0b8dc48b-2dee-4c8e-8e1f-73ef6fac7a6e",
   "metadata": {
    "tags": []
   },
   "outputs": [
    {
     "data": {
      "text/html": [
       "<div>\n",
       "<style scoped>\n",
       "    .dataframe tbody tr th:only-of-type {\n",
       "        vertical-align: middle;\n",
       "    }\n",
       "\n",
       "    .dataframe tbody tr th {\n",
       "        vertical-align: top;\n",
       "    }\n",
       "\n",
       "    .dataframe thead th {\n",
       "        text-align: right;\n",
       "    }\n",
       "</style>\n",
       "<table border=\"1\" class=\"dataframe\">\n",
       "  <thead>\n",
       "    <tr style=\"text-align: right;\">\n",
       "      <th></th>\n",
       "      <th>PassengerId</th>\n",
       "      <th>Survived</th>\n",
       "      <th>Pclass</th>\n",
       "      <th>Name</th>\n",
       "      <th>Sex</th>\n",
       "      <th>Age</th>\n",
       "      <th>SibSp</th>\n",
       "      <th>Parch</th>\n",
       "      <th>Ticket</th>\n",
       "      <th>Fare</th>\n",
       "      <th>Cabin</th>\n",
       "      <th>Embarked</th>\n",
       "    </tr>\n",
       "  </thead>\n",
       "  <tbody>\n",
       "    <tr>\n",
       "      <th>0</th>\n",
       "      <td>1</td>\n",
       "      <td>0</td>\n",
       "      <td>3</td>\n",
       "      <td>Braund, Mr. Owen Harris</td>\n",
       "      <td>male</td>\n",
       "      <td>22.0</td>\n",
       "      <td>1</td>\n",
       "      <td>0</td>\n",
       "      <td>A/5 21171</td>\n",
       "      <td>7.2500</td>\n",
       "      <td>NaN</td>\n",
       "      <td>S</td>\n",
       "    </tr>\n",
       "    <tr>\n",
       "      <th>1</th>\n",
       "      <td>2</td>\n",
       "      <td>1</td>\n",
       "      <td>1</td>\n",
       "      <td>Cumings, Mrs. John Bradley (Florence Briggs Th...</td>\n",
       "      <td>female</td>\n",
       "      <td>38.0</td>\n",
       "      <td>1</td>\n",
       "      <td>0</td>\n",
       "      <td>PC 17599</td>\n",
       "      <td>71.2833</td>\n",
       "      <td>C85</td>\n",
       "      <td>C</td>\n",
       "    </tr>\n",
       "    <tr>\n",
       "      <th>2</th>\n",
       "      <td>3</td>\n",
       "      <td>1</td>\n",
       "      <td>3</td>\n",
       "      <td>Heikkinen, Miss. Laina</td>\n",
       "      <td>female</td>\n",
       "      <td>26.0</td>\n",
       "      <td>0</td>\n",
       "      <td>0</td>\n",
       "      <td>STON/O2. 3101282</td>\n",
       "      <td>7.9250</td>\n",
       "      <td>NaN</td>\n",
       "      <td>S</td>\n",
       "    </tr>\n",
       "    <tr>\n",
       "      <th>3</th>\n",
       "      <td>4</td>\n",
       "      <td>1</td>\n",
       "      <td>1</td>\n",
       "      <td>Futrelle, Mrs. Jacques Heath (Lily May Peel)</td>\n",
       "      <td>female</td>\n",
       "      <td>35.0</td>\n",
       "      <td>1</td>\n",
       "      <td>0</td>\n",
       "      <td>113803</td>\n",
       "      <td>53.1000</td>\n",
       "      <td>C123</td>\n",
       "      <td>S</td>\n",
       "    </tr>\n",
       "    <tr>\n",
       "      <th>4</th>\n",
       "      <td>5</td>\n",
       "      <td>0</td>\n",
       "      <td>3</td>\n",
       "      <td>Allen, Mr. William Henry</td>\n",
       "      <td>male</td>\n",
       "      <td>35.0</td>\n",
       "      <td>0</td>\n",
       "      <td>0</td>\n",
       "      <td>373450</td>\n",
       "      <td>8.0500</td>\n",
       "      <td>NaN</td>\n",
       "      <td>S</td>\n",
       "    </tr>\n",
       "    <tr>\n",
       "      <th>5</th>\n",
       "      <td>6</td>\n",
       "      <td>0</td>\n",
       "      <td>3</td>\n",
       "      <td>Moran, Mr. James</td>\n",
       "      <td>male</td>\n",
       "      <td>NaN</td>\n",
       "      <td>0</td>\n",
       "      <td>0</td>\n",
       "      <td>330877</td>\n",
       "      <td>8.4583</td>\n",
       "      <td>NaN</td>\n",
       "      <td>Q</td>\n",
       "    </tr>\n",
       "    <tr>\n",
       "      <th>6</th>\n",
       "      <td>7</td>\n",
       "      <td>0</td>\n",
       "      <td>1</td>\n",
       "      <td>McCarthy, Mr. Timothy J</td>\n",
       "      <td>male</td>\n",
       "      <td>54.0</td>\n",
       "      <td>0</td>\n",
       "      <td>0</td>\n",
       "      <td>17463</td>\n",
       "      <td>51.8625</td>\n",
       "      <td>E46</td>\n",
       "      <td>S</td>\n",
       "    </tr>\n",
       "    <tr>\n",
       "      <th>7</th>\n",
       "      <td>8</td>\n",
       "      <td>0</td>\n",
       "      <td>3</td>\n",
       "      <td>Palsson, Master. Gosta Leonard</td>\n",
       "      <td>male</td>\n",
       "      <td>2.0</td>\n",
       "      <td>3</td>\n",
       "      <td>1</td>\n",
       "      <td>349909</td>\n",
       "      <td>21.0750</td>\n",
       "      <td>NaN</td>\n",
       "      <td>S</td>\n",
       "    </tr>\n",
       "    <tr>\n",
       "      <th>8</th>\n",
       "      <td>9</td>\n",
       "      <td>1</td>\n",
       "      <td>3</td>\n",
       "      <td>Johnson, Mrs. Oscar W (Elisabeth Vilhelmina Berg)</td>\n",
       "      <td>female</td>\n",
       "      <td>27.0</td>\n",
       "      <td>0</td>\n",
       "      <td>2</td>\n",
       "      <td>347742</td>\n",
       "      <td>11.1333</td>\n",
       "      <td>NaN</td>\n",
       "      <td>S</td>\n",
       "    </tr>\n",
       "    <tr>\n",
       "      <th>9</th>\n",
       "      <td>10</td>\n",
       "      <td>1</td>\n",
       "      <td>2</td>\n",
       "      <td>Nasser, Mrs. Nicholas (Adele Achem)</td>\n",
       "      <td>female</td>\n",
       "      <td>14.0</td>\n",
       "      <td>1</td>\n",
       "      <td>0</td>\n",
       "      <td>237736</td>\n",
       "      <td>30.0708</td>\n",
       "      <td>NaN</td>\n",
       "      <td>C</td>\n",
       "    </tr>\n",
       "  </tbody>\n",
       "</table>\n",
       "</div>"
      ],
      "text/plain": [
       "   PassengerId  Survived  Pclass  \\\n",
       "0            1         0       3   \n",
       "1            2         1       1   \n",
       "2            3         1       3   \n",
       "3            4         1       1   \n",
       "4            5         0       3   \n",
       "5            6         0       3   \n",
       "6            7         0       1   \n",
       "7            8         0       3   \n",
       "8            9         1       3   \n",
       "9           10         1       2   \n",
       "\n",
       "                                                Name     Sex   Age  SibSp  \\\n",
       "0                            Braund, Mr. Owen Harris    male  22.0      1   \n",
       "1  Cumings, Mrs. John Bradley (Florence Briggs Th...  female  38.0      1   \n",
       "2                             Heikkinen, Miss. Laina  female  26.0      0   \n",
       "3       Futrelle, Mrs. Jacques Heath (Lily May Peel)  female  35.0      1   \n",
       "4                           Allen, Mr. William Henry    male  35.0      0   \n",
       "5                                   Moran, Mr. James    male   NaN      0   \n",
       "6                            McCarthy, Mr. Timothy J    male  54.0      0   \n",
       "7                     Palsson, Master. Gosta Leonard    male   2.0      3   \n",
       "8  Johnson, Mrs. Oscar W (Elisabeth Vilhelmina Berg)  female  27.0      0   \n",
       "9                Nasser, Mrs. Nicholas (Adele Achem)  female  14.0      1   \n",
       "\n",
       "   Parch            Ticket     Fare Cabin Embarked  \n",
       "0      0         A/5 21171   7.2500   NaN        S  \n",
       "1      0          PC 17599  71.2833   C85        C  \n",
       "2      0  STON/O2. 3101282   7.9250   NaN        S  \n",
       "3      0            113803  53.1000  C123        S  \n",
       "4      0            373450   8.0500   NaN        S  \n",
       "5      0            330877   8.4583   NaN        Q  \n",
       "6      0             17463  51.8625   E46        S  \n",
       "7      1            349909  21.0750   NaN        S  \n",
       "8      2            347742  11.1333   NaN        S  \n",
       "9      0            237736  30.0708   NaN        C  "
      ]
     },
     "execution_count": 4,
     "metadata": {},
     "output_type": "execute_result"
    }
   ],
   "source": [
    "# import dataset\n",
    "train_df = pd.read_csv(\"train.csv\")\n",
    "serving_df = pd.read_csv(\"test.csv\")\n",
    "\n",
    "train_df.head(10)"
   ]
  },
  {
   "cell_type": "markdown",
   "id": "f4a6a32b-d9cd-4017-9850-52953eeb5dba",
   "metadata": {},
   "source": [
    "- Tokenize the names. For example, \"Braund, Mr. Owen Harris\" will become [\"Braund\", \"Mr.\", \"Owen\", \"Harris\"].\n",
    "- Extract any prefix in the ticket. For example: ticket \"STON/O2. 3101282\" will become \"STON/O2.\" and 3101282."
   ]
  },
  {
   "cell_type": "code",
   "execution_count": 5,
   "id": "2c5299fd-894b-4804-b3ec-faea5bc5c796",
   "metadata": {
    "tags": []
   },
   "outputs": [
    {
     "data": {
      "text/html": [
       "<div>\n",
       "<style scoped>\n",
       "    .dataframe tbody tr th:only-of-type {\n",
       "        vertical-align: middle;\n",
       "    }\n",
       "\n",
       "    .dataframe tbody tr th {\n",
       "        vertical-align: top;\n",
       "    }\n",
       "\n",
       "    .dataframe thead th {\n",
       "        text-align: right;\n",
       "    }\n",
       "</style>\n",
       "<table border=\"1\" class=\"dataframe\">\n",
       "  <thead>\n",
       "    <tr style=\"text-align: right;\">\n",
       "      <th></th>\n",
       "      <th>PassengerId</th>\n",
       "      <th>Survived</th>\n",
       "      <th>Pclass</th>\n",
       "      <th>Name</th>\n",
       "      <th>Sex</th>\n",
       "      <th>Age</th>\n",
       "      <th>SibSp</th>\n",
       "      <th>Parch</th>\n",
       "      <th>Ticket</th>\n",
       "      <th>Fare</th>\n",
       "      <th>Cabin</th>\n",
       "      <th>Embarked</th>\n",
       "      <th>Ticket_number</th>\n",
       "      <th>Ticket_item</th>\n",
       "    </tr>\n",
       "  </thead>\n",
       "  <tbody>\n",
       "    <tr>\n",
       "      <th>0</th>\n",
       "      <td>1</td>\n",
       "      <td>0</td>\n",
       "      <td>3</td>\n",
       "      <td>Braund Mr Owen Harris</td>\n",
       "      <td>male</td>\n",
       "      <td>22.0</td>\n",
       "      <td>1</td>\n",
       "      <td>0</td>\n",
       "      <td>A/5 21171</td>\n",
       "      <td>7.2500</td>\n",
       "      <td>NaN</td>\n",
       "      <td>S</td>\n",
       "      <td>21171</td>\n",
       "      <td>A/5</td>\n",
       "    </tr>\n",
       "    <tr>\n",
       "      <th>1</th>\n",
       "      <td>2</td>\n",
       "      <td>1</td>\n",
       "      <td>1</td>\n",
       "      <td>Cumings Mrs John Bradley Florence Briggs Thayer</td>\n",
       "      <td>female</td>\n",
       "      <td>38.0</td>\n",
       "      <td>1</td>\n",
       "      <td>0</td>\n",
       "      <td>PC 17599</td>\n",
       "      <td>71.2833</td>\n",
       "      <td>C85</td>\n",
       "      <td>C</td>\n",
       "      <td>17599</td>\n",
       "      <td>PC</td>\n",
       "    </tr>\n",
       "    <tr>\n",
       "      <th>2</th>\n",
       "      <td>3</td>\n",
       "      <td>1</td>\n",
       "      <td>3</td>\n",
       "      <td>Heikkinen Miss Laina</td>\n",
       "      <td>female</td>\n",
       "      <td>26.0</td>\n",
       "      <td>0</td>\n",
       "      <td>0</td>\n",
       "      <td>STON/O2. 3101282</td>\n",
       "      <td>7.9250</td>\n",
       "      <td>NaN</td>\n",
       "      <td>S</td>\n",
       "      <td>3101282</td>\n",
       "      <td>STON/O2.</td>\n",
       "    </tr>\n",
       "    <tr>\n",
       "      <th>3</th>\n",
       "      <td>4</td>\n",
       "      <td>1</td>\n",
       "      <td>1</td>\n",
       "      <td>Futrelle Mrs Jacques Heath Lily May Peel</td>\n",
       "      <td>female</td>\n",
       "      <td>35.0</td>\n",
       "      <td>1</td>\n",
       "      <td>0</td>\n",
       "      <td>113803</td>\n",
       "      <td>53.1000</td>\n",
       "      <td>C123</td>\n",
       "      <td>S</td>\n",
       "      <td>113803</td>\n",
       "      <td>NONE</td>\n",
       "    </tr>\n",
       "    <tr>\n",
       "      <th>4</th>\n",
       "      <td>5</td>\n",
       "      <td>0</td>\n",
       "      <td>3</td>\n",
       "      <td>Allen Mr William Henry</td>\n",
       "      <td>male</td>\n",
       "      <td>35.0</td>\n",
       "      <td>0</td>\n",
       "      <td>0</td>\n",
       "      <td>373450</td>\n",
       "      <td>8.0500</td>\n",
       "      <td>NaN</td>\n",
       "      <td>S</td>\n",
       "      <td>373450</td>\n",
       "      <td>NONE</td>\n",
       "    </tr>\n",
       "  </tbody>\n",
       "</table>\n",
       "</div>"
      ],
      "text/plain": [
       "   PassengerId  Survived  Pclass  \\\n",
       "0            1         0       3   \n",
       "1            2         1       1   \n",
       "2            3         1       3   \n",
       "3            4         1       1   \n",
       "4            5         0       3   \n",
       "\n",
       "                                              Name     Sex   Age  SibSp  \\\n",
       "0                            Braund Mr Owen Harris    male  22.0      1   \n",
       "1  Cumings Mrs John Bradley Florence Briggs Thayer  female  38.0      1   \n",
       "2                             Heikkinen Miss Laina  female  26.0      0   \n",
       "3         Futrelle Mrs Jacques Heath Lily May Peel  female  35.0      1   \n",
       "4                           Allen Mr William Henry    male  35.0      0   \n",
       "\n",
       "   Parch            Ticket     Fare Cabin Embarked Ticket_number Ticket_item  \n",
       "0      0         A/5 21171   7.2500   NaN        S         21171         A/5  \n",
       "1      0          PC 17599  71.2833   C85        C         17599          PC  \n",
       "2      0  STON/O2. 3101282   7.9250   NaN        S       3101282    STON/O2.  \n",
       "3      0            113803  53.1000  C123        S        113803        NONE  \n",
       "4      0            373450   8.0500   NaN        S        373450        NONE  "
      ]
     },
     "execution_count": 5,
     "metadata": {},
     "output_type": "execute_result"
    }
   ],
   "source": [
    "def preprocess(df):\n",
    "    df = df.copy()\n",
    "    \n",
    "    def normalize_name(x):\n",
    "        return \" \".join([v.strip(\",()[].\\\"'\") for v in x.split(\" \")])\n",
    "    \n",
    "    def ticket_number(x):\n",
    "        return x.split(\" \")[-1]\n",
    "        \n",
    "    def ticket_item(x):\n",
    "        items = x.split(\" \")\n",
    "        if len(items) == 1:\n",
    "            return \"NONE\"\n",
    "        return \"_\".join(items[0:-1])\n",
    "    \n",
    "    df[\"Name\"] = df[\"Name\"].apply(normalize_name)\n",
    "    df[\"Ticket_number\"] = df[\"Ticket\"].apply(ticket_number)\n",
    "    df[\"Ticket_item\"] = df[\"Ticket\"].apply(ticket_item)                     \n",
    "    return df\n",
    "    \n",
    "preprocessed_train_df = preprocess(train_df)\n",
    "preprocessed_serving_df = preprocess(serving_df)\n",
    "\n",
    "preprocessed_train_df.head(5)"
   ]
  },
  {
   "cell_type": "code",
   "execution_count": 7,
   "id": "af4a4840-bc38-4b87-8b4d-449a47beab8f",
   "metadata": {
    "tags": []
   },
   "outputs": [
    {
     "name": "stdout",
     "output_type": "stream",
     "text": [
      "Input features: ['Pclass', 'Name', 'Sex', 'Age', 'SibSp', 'Parch', 'Fare', 'Cabin', 'Embarked', 'Ticket_number', 'Ticket_item']\n"
     ]
    }
   ],
   "source": [
    "# remove the input features: ticket, passenger_id, survived, ticket_number\n",
    "input_features = list(preprocessed_train_df.columns)\n",
    "input_features.remove(\"Ticket\")\n",
    "input_features.remove(\"PassengerId\")\n",
    "input_features.remove(\"Survived\")\n",
    "#input_features.remove(\"Ticket_number\")\n",
    "\n",
    "print(f\"Input features: {input_features}\")"
   ]
  },
  {
   "cell_type": "code",
   "execution_count": 8,
   "id": "0be1960e-f0fe-49d9-87cf-446c490871a0",
   "metadata": {
    "tags": []
   },
   "outputs": [
    {
     "name": "stdout",
     "output_type": "stream",
     "text": [
      "Metal device set to: Apple M1\n"
     ]
    }
   ],
   "source": [
    "# convert pandas dataset to tensorflow\n",
    "\n",
    "def tokenize_names(features, labels=None):\n",
    "    \"\"\"Divite the names into tokens. TF-DF can consume text tokens natively.\"\"\"\n",
    "    features[\"Name\"] =  tf.strings.split(features[\"Name\"])\n",
    "    return features, labels\n",
    "\n",
    "train_ds = tfdf.keras.pd_dataframe_to_tf_dataset(preprocessed_train_df,label=\"Survived\").map(tokenize_names)\n",
    "serving_ds = tfdf.keras.pd_dataframe_to_tf_dataset(preprocessed_serving_df).map(tokenize_names)"
   ]
  },
  {
   "cell_type": "code",
   "execution_count": 9,
   "id": "bec28459-5299-48f4-ad4b-81903a96cc2d",
   "metadata": {
    "tags": []
   },
   "outputs": [
    {
     "name": "stderr",
     "output_type": "stream",
     "text": [
      "[WARNING 23-07-13 19:34:11.5229 EDT gradient_boosted_trees.cc:1818] \"goss_alpha\" set but \"sampling_method\" not equal to \"GOSS\".\n",
      "[WARNING 23-07-13 19:34:11.5255 EDT gradient_boosted_trees.cc:1829] \"goss_beta\" set but \"sampling_method\" not equal to \"GOSS\".\n",
      "[WARNING 23-07-13 19:34:11.5255 EDT gradient_boosted_trees.cc:1843] \"selective_gradient_boosting_ratio\" set but \"sampling_method\" not equal to \"SELGB\".\n",
      "2023-07-13 19:34:11.675965: W tensorflow/tsl/platform/profile_utils/cpu_utils.cc:128] Failed to get CPU frequency: 0 Hz\n",
      "[INFO 23-07-13 19:34:13.9141 EDT kernel.cc:1243] Loading model from path /var/folders/wp/s6hl_fl57tnf8_1_ndx9w4hw0000gn/T/tmpetehxzjx/model/ with prefix ce352b1978de4bb1\n",
      "[INFO 23-07-13 19:34:13.9168 EDT abstract_model.cc:1312] Engine \"GradientBoostedTreesQuickScorerExtended\" built\n",
      "[INFO 23-07-13 19:34:13.9168 EDT kernel.cc:1075] Use fast generic engine\n"
     ]
    },
    {
     "name": "stdout",
     "output_type": "stream",
     "text": [
      "WARNING:tensorflow:AutoGraph could not transform <function simple_ml_inference_op_with_handle at 0x16844bd30> and will run it as-is.\n",
      "Please report this to the TensorFlow team. When filing the bug, set the verbosity to 10 (on Linux, `export AUTOGRAPH_VERBOSITY=10`) and attach the full output.\n",
      "Cause: could not get source code\n",
      "To silence this warning, decorate the function with @tf.autograph.experimental.do_not_convert\n",
      "WARNING: AutoGraph could not transform <function simple_ml_inference_op_with_handle at 0x16844bd30> and will run it as-is.\n",
      "Please report this to the TensorFlow team. When filing the bug, set the verbosity to 10 (on Linux, `export AUTOGRAPH_VERBOSITY=10`) and attach the full output.\n",
      "Cause: could not get source code\n",
      "To silence this warning, decorate the function with @tf.autograph.experimental.do_not_convert\n",
      "Accuracy: 0.804347813129425 Loss:0.8922085762023926\n"
     ]
    }
   ],
   "source": [
    "# train a GradientBoostedTreesModel model with the default parameters\n",
    "model = tfdf.keras.GradientBoostedTreesModel(\n",
    "    verbose=0, # Very few logs\n",
    "    features=[tfdf.keras.FeatureUsage(name=n) for n in input_features],\n",
    "    exclude_non_specified_features=True, # Only use the features in \"features\"\n",
    "    random_seed=1234,\n",
    ")\n",
    "model.fit(train_ds)\n",
    "\n",
    "self_evaluation = model.make_inspector().evaluation()\n",
    "print(f\"Accuracy: {self_evaluation.accuracy} Loss:{self_evaluation.loss}\")"
   ]
  },
  {
   "cell_type": "code",
   "execution_count": 10,
   "id": "a971289e-2e90-487a-988b-2eed99411e4b",
   "metadata": {
    "tags": []
   },
   "outputs": [
    {
     "name": "stderr",
     "output_type": "stream",
     "text": [
      "[WARNING 23-07-13 19:34:44.5052 EDT gradient_boosted_trees.cc:1818] \"goss_alpha\" set but \"sampling_method\" not equal to \"GOSS\".\n",
      "[WARNING 23-07-13 19:34:44.5053 EDT gradient_boosted_trees.cc:1829] \"goss_beta\" set but \"sampling_method\" not equal to \"GOSS\".\n",
      "[WARNING 23-07-13 19:34:44.5053 EDT gradient_boosted_trees.cc:1843] \"selective_gradient_boosting_ratio\" set but \"sampling_method\" not equal to \"SELGB\".\n"
     ]
    },
    {
     "name": "stdout",
     "output_type": "stream",
     "text": [
      "Accuracy: 0.77173912525177 Loss:1.0344746112823486\n"
     ]
    },
    {
     "name": "stderr",
     "output_type": "stream",
     "text": [
      "[INFO 23-07-13 19:34:44.8409 EDT kernel.cc:1243] Loading model from path /var/folders/wp/s6hl_fl57tnf8_1_ndx9w4hw0000gn/T/tmpr31bu0gb/model/ with prefix 6146817755ee4696\n",
      "[INFO 23-07-13 19:34:44.8437 EDT decision_forest.cc:660] Model loaded with 34 root(s), 1782 node(s), and 10 input feature(s).\n",
      "[INFO 23-07-13 19:34:44.8437 EDT abstract_model.cc:1312] Engine \"GradientBoostedTreesGeneric\" built\n",
      "[INFO 23-07-13 19:34:44.8437 EDT kernel.cc:1075] Use fast generic engine\n"
     ]
    }
   ],
   "source": [
    "# Train model with improved default parameters\n",
    "\n",
    "model = tfdf.keras.GradientBoostedTreesModel(\n",
    "    verbose=0, # Very few logs\n",
    "    features=[tfdf.keras.FeatureUsage(name=n) for n in input_features],\n",
    "    exclude_non_specified_features=True, # Only use the features in \"features\"\n",
    "    \n",
    "    #num_trees=2000,\n",
    "    \n",
    "    # Only for GBT.\n",
    "    # A bit slower, but great to understand the model.\n",
    "    # compute_permutation_variable_importance=True,\n",
    "    \n",
    "    # Change the default hyper-parameters\n",
    "    # hyperparameter_template=\"benchmark_rank1@v1\",\n",
    "    \n",
    "    #num_trees=1000,\n",
    "    #tuner=tuner\n",
    "    \n",
    "    min_examples=1,\n",
    "    categorical_algorithm=\"RANDOM\",\n",
    "    #max_depth=4,\n",
    "    shrinkage=0.05,\n",
    "    #num_candidate_attributes_ratio=0.2,\n",
    "    split_axis=\"SPARSE_OBLIQUE\",\n",
    "    sparse_oblique_normalization=\"MIN_MAX\",\n",
    "    sparse_oblique_num_projections_exponent=2.0,\n",
    "    num_trees=2000,\n",
    "    #validation_ratio=0.0,\n",
    "    random_seed=1234,\n",
    "    \n",
    ")\n",
    "model.fit(train_ds)\n",
    "\n",
    "self_evaluation = model.make_inspector().evaluation()\n",
    "print(f\"Accuracy: {self_evaluation.accuracy} Loss:{self_evaluation.loss}\")"
   ]
  },
  {
   "cell_type": "code",
   "execution_count": 11,
   "id": "a2648092-56a9-4a0f-b4b2-38b5b820f8c5",
   "metadata": {
    "tags": []
   },
   "outputs": [
    {
     "name": "stdout",
     "output_type": "stream",
     "text": [
      "Model: \"gradient_boosted_trees_model_1\"\n",
      "_________________________________________________________________\n",
      " Layer (type)                Output Shape              Param #   \n",
      "=================================================================\n",
      "=================================================================\n",
      "Total params: 1\n",
      "Trainable params: 0\n",
      "Non-trainable params: 1\n",
      "_________________________________________________________________\n",
      "Type: \"GRADIENT_BOOSTED_TREES\"\n",
      "Task: CLASSIFICATION\n",
      "Label: \"__LABEL\"\n",
      "\n",
      "Input Features (11):\n",
      "\tAge\n",
      "\tCabin\n",
      "\tEmbarked\n",
      "\tFare\n",
      "\tName\n",
      "\tParch\n",
      "\tPclass\n",
      "\tSex\n",
      "\tSibSp\n",
      "\tTicket_item\n",
      "\tTicket_number\n",
      "\n",
      "No weights\n",
      "\n",
      "Variable Importance: INV_MEAN_MIN_DEPTH:\n",
      "    1.           \"Sex\"  0.542176 ################\n",
      "    2.           \"Age\"  0.362914 ########\n",
      "    3.          \"Fare\"  0.267978 ####\n",
      "    4.          \"Name\"  0.210150 #\n",
      "    5.        \"Pclass\"  0.182221 \n",
      "    6. \"Ticket_number\"  0.182105 \n",
      "    7.      \"Embarked\"  0.177187 \n",
      "    8.   \"Ticket_item\"  0.176830 \n",
      "    9.         \"Parch\"  0.176170 \n",
      "   10.         \"SibSp\"  0.171814 \n",
      "\n",
      "Variable Importance: NUM_AS_ROOT:\n",
      "    1.  \"Sex\" 28.000000 ################\n",
      "    2. \"Name\"  6.000000 \n",
      "\n",
      "Variable Importance: NUM_NODES:\n",
      "    1.           \"Age\" 422.000000 ################\n",
      "    2.          \"Fare\" 280.000000 ##########\n",
      "    3.          \"Name\" 44.000000 #\n",
      "    4.   \"Ticket_item\" 38.000000 #\n",
      "    5.           \"Sex\" 31.000000 \n",
      "    6. \"Ticket_number\" 21.000000 \n",
      "    7.         \"Parch\" 15.000000 \n",
      "    8.      \"Embarked\"  9.000000 \n",
      "    9.        \"Pclass\"  9.000000 \n",
      "   10.         \"SibSp\"  5.000000 \n",
      "\n",
      "Variable Importance: SUM_SCORE:\n",
      "    1.           \"Sex\" 423.605279 ################\n",
      "    2.           \"Age\" 365.717617 #############\n",
      "    3.          \"Fare\" 272.939354 ##########\n",
      "    4.          \"Name\" 149.888985 #####\n",
      "    5.        \"Pclass\" 45.655306 #\n",
      "    6. \"Ticket_number\" 22.673552 \n",
      "    7.   \"Ticket_item\" 21.444012 \n",
      "    8.         \"Parch\"  7.252502 \n",
      "    9.      \"Embarked\"  6.895549 \n",
      "   10.         \"SibSp\"  2.470918 \n",
      "\n",
      "\n",
      "\n",
      "Loss: BINOMIAL_LOG_LIKELIHOOD\n",
      "Validation loss value: 1.03447\n",
      "Number of trees per iteration: 1\n",
      "Node format: NOT_SET\n",
      "Number of trees: 34\n",
      "Total number of nodes: 1782\n",
      "\n",
      "Number of nodes by tree:\n",
      "Count: 34 Average: 52.4118 StdDev: 5.49929\n",
      "Min: 37 Max: 61 Ignored: 0\n",
      "----------------------------------------------\n",
      "[ 37, 38) 1   2.94%   2.94% #\n",
      "[ 38, 39) 0   0.00%   2.94%\n",
      "[ 39, 40) 1   2.94%   5.88% #\n",
      "[ 40, 42) 0   0.00%   5.88%\n",
      "[ 42, 43) 0   0.00%   5.88%\n",
      "[ 43, 44) 0   0.00%   5.88%\n",
      "[ 44, 45) 0   0.00%   5.88%\n",
      "[ 45, 47) 2   5.88%  11.76% ###\n",
      "[ 47, 48) 1   2.94%  14.71% #\n",
      "[ 48, 49) 0   0.00%  14.71%\n",
      "[ 49, 50) 3   8.82%  23.53% ####\n",
      "[ 50, 52) 8  23.53%  47.06% ##########\n",
      "[ 52, 53) 0   0.00%  47.06%\n",
      "[ 53, 54) 5  14.71%  61.76% ######\n",
      "[ 54, 55) 0   0.00%  61.76%\n",
      "[ 55, 57) 4  11.76%  73.53% #####\n",
      "[ 57, 58) 4  11.76%  85.29% #####\n",
      "[ 58, 59) 0   0.00%  85.29%\n",
      "[ 59, 60) 2   5.88%  91.18% ###\n",
      "[ 60, 61] 3   8.82% 100.00% ####\n",
      "\n",
      "Depth by leafs:\n",
      "Count: 908 Average: 4.84361 StdDev: 0.459593\n",
      "Min: 2 Max: 5 Ignored: 0\n",
      "----------------------------------------------\n",
      "[ 2, 3)   2   0.22%   0.22%\n",
      "[ 3, 4)  30   3.30%   3.52%\n",
      "[ 4, 5)  76   8.37%  11.89% #\n",
      "[ 5, 5] 800  88.11% 100.00% ##########\n",
      "\n",
      "Number of training obs by leaf:\n",
      "Count: 908 Average: 29.9185 StdDev: 74.3567\n",
      "Min: 1 Max: 469 Ignored: 0\n",
      "----------------------------------------------\n",
      "[   1,  24) 721  79.41%  79.41% ##########\n",
      "[  24,  47)  60   6.61%  86.01% #\n",
      "[  47,  71)  40   4.41%  90.42% #\n",
      "[  71,  94)   9   0.99%  91.41%\n",
      "[  94, 118)  13   1.43%  92.84%\n",
      "[ 118, 141)   8   0.88%  93.72%\n",
      "[ 141, 165)  15   1.65%  95.37%\n",
      "[ 165, 188)   6   0.66%  96.04%\n",
      "[ 188, 212)   2   0.22%  96.26%\n",
      "[ 212, 235)   1   0.11%  96.37%\n",
      "[ 235, 258)   6   0.66%  97.03%\n",
      "[ 258, 282)   1   0.11%  97.14%\n",
      "[ 282, 305)   0   0.00%  97.14%\n",
      "[ 305, 329)   0   0.00%  97.14%\n",
      "[ 329, 352)   2   0.22%  97.36%\n",
      "[ 352, 376)   6   0.66%  98.02%\n",
      "[ 376, 399)   5   0.55%  98.57%\n",
      "[ 399, 423)  10   1.10%  99.67%\n",
      "[ 423, 446)   0   0.00%  99.67%\n",
      "[ 446, 469]   3   0.33% 100.00%\n",
      "\n",
      "Attribute in nodes:\n",
      "\t422 : Age [NUMERICAL]\n",
      "\t280 : Fare [NUMERICAL]\n",
      "\t44 : Name [CATEGORICAL_SET]\n",
      "\t38 : Ticket_item [CATEGORICAL]\n",
      "\t31 : Sex [CATEGORICAL]\n",
      "\t21 : Ticket_number [CATEGORICAL]\n",
      "\t15 : Parch [NUMERICAL]\n",
      "\t9 : Pclass [NUMERICAL]\n",
      "\t9 : Embarked [CATEGORICAL]\n",
      "\t5 : SibSp [NUMERICAL]\n",
      "\n",
      "Attribute in nodes with depth <= 0:\n",
      "\t28 : Sex [CATEGORICAL]\n",
      "\t6 : Name [CATEGORICAL_SET]\n",
      "\n",
      "Attribute in nodes with depth <= 1:\n",
      "\t42 : Age [NUMERICAL]\n",
      "\t28 : Sex [CATEGORICAL]\n",
      "\t17 : Fare [NUMERICAL]\n",
      "\t6 : Pclass [NUMERICAL]\n",
      "\t6 : Name [CATEGORICAL_SET]\n",
      "\t2 : Ticket_number [CATEGORICAL]\n",
      "\t1 : Parch [NUMERICAL]\n",
      "\n",
      "Attribute in nodes with depth <= 2:\n",
      "\t106 : Age [NUMERICAL]\n",
      "\t61 : Fare [NUMERICAL]\n",
      "\t29 : Sex [CATEGORICAL]\n",
      "\t14 : Name [CATEGORICAL_SET]\n",
      "\t8 : Ticket_number [CATEGORICAL]\n",
      "\t7 : Embarked [CATEGORICAL]\n",
      "\t6 : Pclass [NUMERICAL]\n",
      "\t3 : Parch [NUMERICAL]\n",
      "\t2 : Ticket_item [CATEGORICAL]\n",
      "\n",
      "Attribute in nodes with depth <= 3:\n",
      "\t214 : Age [NUMERICAL]\n",
      "\t148 : Fare [NUMERICAL]\n",
      "\t29 : Sex [CATEGORICAL]\n",
      "\t24 : Name [CATEGORICAL_SET]\n",
      "\t19 : Ticket_number [CATEGORICAL]\n",
      "\t15 : Ticket_item [CATEGORICAL]\n",
      "\t9 : Parch [NUMERICAL]\n",
      "\t8 : Embarked [CATEGORICAL]\n",
      "\t6 : Pclass [NUMERICAL]\n",
      "\t2 : SibSp [NUMERICAL]\n",
      "\n",
      "Attribute in nodes with depth <= 5:\n",
      "\t422 : Age [NUMERICAL]\n",
      "\t280 : Fare [NUMERICAL]\n",
      "\t44 : Name [CATEGORICAL_SET]\n",
      "\t38 : Ticket_item [CATEGORICAL]\n",
      "\t31 : Sex [CATEGORICAL]\n",
      "\t21 : Ticket_number [CATEGORICAL]\n",
      "\t15 : Parch [NUMERICAL]\n",
      "\t9 : Pclass [NUMERICAL]\n",
      "\t9 : Embarked [CATEGORICAL]\n",
      "\t5 : SibSp [NUMERICAL]\n",
      "\n",
      "Condition type in nodes:\n",
      "\t731 : ObliqueCondition\n",
      "\t109 : ContainsBitmapCondition\n",
      "\t34 : ContainsCondition\n",
      "Condition type in nodes with depth <= 0:\n",
      "\t34 : ContainsBitmapCondition\n",
      "Condition type in nodes with depth <= 1:\n",
      "\t66 : ObliqueCondition\n",
      "\t36 : ContainsBitmapCondition\n",
      "Condition type in nodes with depth <= 2:\n",
      "\t176 : ObliqueCondition\n",
      "\t54 : ContainsBitmapCondition\n",
      "\t6 : ContainsCondition\n",
      "Condition type in nodes with depth <= 3:\n",
      "\t379 : ObliqueCondition\n",
      "\t80 : ContainsBitmapCondition\n",
      "\t15 : ContainsCondition\n",
      "Condition type in nodes with depth <= 5:\n",
      "\t731 : ObliqueCondition\n",
      "\t109 : ContainsBitmapCondition\n",
      "\t34 : ContainsCondition\n",
      "\n",
      "Training logs:\n",
      "Number of iteration to final model: 34\n",
      "\tIter:1 train-loss:1.267642 valid-loss:1.363407  train-accuracy:0.624531 valid-accuracy:0.543478\n",
      "\tIter:2 train-loss:1.216613 valid-loss:1.329323  train-accuracy:0.624531 valid-accuracy:0.543478\n",
      "\tIter:3 train-loss:1.169435 valid-loss:1.301666  train-accuracy:0.624531 valid-accuracy:0.543478\n",
      "\tIter:4 train-loss:1.121583 valid-loss:1.264140  train-accuracy:0.624531 valid-accuracy:0.543478\n",
      "\tIter:5 train-loss:1.079456 valid-loss:1.237068  train-accuracy:0.794743 valid-accuracy:0.717391\n",
      "\tIter:6 train-loss:1.043708 valid-loss:1.215912  train-accuracy:0.824781 valid-accuracy:0.717391\n",
      "\tIter:16 train-loss:0.791779 valid-loss:1.101890  train-accuracy:0.902378 valid-accuracy:0.739130\n",
      "\tIter:26 train-loss:0.651216 valid-loss:1.060381  train-accuracy:0.922403 valid-accuracy:0.771739\n",
      "\tIter:36 train-loss:0.565715 valid-loss:1.040762  train-accuracy:0.927409 valid-accuracy:0.782609\n",
      "\tIter:46 train-loss:0.498760 valid-loss:1.048705  train-accuracy:0.931164 valid-accuracy:0.793478\n",
      "\tIter:56 train-loss:0.457582 valid-loss:1.062104  train-accuracy:0.938673 valid-accuracy:0.771739\n",
      "\n"
     ]
    }
   ],
   "source": [
    "model.summary()"
   ]
  },
  {
   "cell_type": "code",
   "execution_count": 16,
   "id": "f9288b88-95f7-423a-a01c-0f4f6bdbc29c",
   "metadata": {
    "tags": []
   },
   "outputs": [
    {
     "name": "stdout",
     "output_type": "stream",
     "text": [
      "Submission exported to https://www.kaggle.com/competitions/titanic/submissions\n"
     ]
    }
   ],
   "source": [
    "# make predictions\n",
    "\n",
    "def prediction_to_kaggle_format(model, threshold=0.5):\n",
    "    proba_survive = model.predict(serving_ds, verbose=0)[:,0]\n",
    "    return pd.DataFrame({\n",
    "        \"PassengerId\": serving_df[\"PassengerId\"],\n",
    "        \"Survived\": (proba_survive >= threshold).astype(int)\n",
    "    })\n",
    "\n",
    "def make_submission(kaggle_predictions):\n",
    "    path=\"https://www.kaggle.com/competitions/titanic/submissions\" \n",
    "    kaggle_predictions.to_csv(path, index=False)\n",
    "    print(f\"Submission exported to {path}\")\n",
    "    \n",
    "kaggle_predictions = prediction_to_kaggle_format(model)\n",
    "make_submission(kaggle_predictions)"
   ]
  },
  {
   "cell_type": "code",
   "execution_count": 17,
   "id": "6d792c72-da2d-41ca-bd46-0c02b0219e6f",
   "metadata": {
    "tags": []
   },
   "outputs": [
    {
     "name": "stdout",
     "output_type": "stream",
     "text": [
      "Use /var/folders/wp/s6hl_fl57tnf8_1_ndx9w4hw0000gn/T/tmpxrkt5da4 as temporary training directory\n"
     ]
    },
    {
     "name": "stderr",
     "output_type": "stream",
     "text": [
      "[WARNING 23-07-13 21:55:29.7670 EDT gradient_boosted_trees.cc:1818] \"goss_alpha\" set but \"sampling_method\" not equal to \"GOSS\".\n",
      "[WARNING 23-07-13 21:55:29.7671 EDT gradient_boosted_trees.cc:1829] \"goss_beta\" set but \"sampling_method\" not equal to \"GOSS\".\n",
      "[WARNING 23-07-13 21:55:29.7671 EDT gradient_boosted_trees.cc:1843] \"selective_gradient_boosting_ratio\" set but \"sampling_method\" not equal to \"SELGB\".\n"
     ]
    },
    {
     "name": "stdout",
     "output_type": "stream",
     "text": [
      "Accuracy: 0.8767123222351074 Loss:0.6833678483963013\n"
     ]
    },
    {
     "name": "stderr",
     "output_type": "stream",
     "text": [
      "[INFO 23-07-13 21:55:59.5575 EDT kernel.cc:1243] Loading model from path /var/folders/wp/s6hl_fl57tnf8_1_ndx9w4hw0000gn/T/tmpxrkt5da4/model/ with prefix 75f96d65ad7f48cc\n",
      "[INFO 23-07-13 21:55:59.5630 EDT decision_forest.cc:660] Model loaded with 35 root(s), 1085 node(s), and 12 input feature(s).\n",
      "[INFO 23-07-13 21:55:59.5630 EDT abstract_model.cc:1312] Engine \"GradientBoostedTreesGeneric\" built\n",
      "[INFO 23-07-13 21:55:59.5630 EDT kernel.cc:1075] Use fast generic engine\n"
     ]
    }
   ],
   "source": [
    "tuner = tfdf.tuner.RandomSearch(num_trials=1000)\n",
    "tuner.choice(\"min_examples\", [2, 5, 7, 10])\n",
    "tuner.choice(\"categorical_algorithm\", [\"CART\", \"RANDOM\"])\n",
    "\n",
    "local_search_space = tuner.choice(\"growing_strategy\", [\"LOCAL\"])\n",
    "local_search_space.choice(\"max_depth\", [3, 4, 5, 6, 8])\n",
    "\n",
    "global_search_space = tuner.choice(\"growing_strategy\", [\"BEST_FIRST_GLOBAL\"], merge=True)\n",
    "global_search_space.choice(\"max_num_nodes\", [16, 32, 64, 128, 256])\n",
    "\n",
    "#tuner.choice(\"use_hessian_gain\", [True, False])\n",
    "tuner.choice(\"shrinkage\", [0.02, 0.05, 0.10, 0.15])\n",
    "tuner.choice(\"num_candidate_attributes_ratio\", [0.2, 0.5, 0.9, 1.0])\n",
    "\n",
    "\n",
    "tuner.choice(\"split_axis\", [\"AXIS_ALIGNED\"])\n",
    "oblique_space = tuner.choice(\"split_axis\", [\"SPARSE_OBLIQUE\"], merge=True)\n",
    "oblique_space.choice(\"sparse_oblique_normalization\",\n",
    "                     [\"NONE\", \"STANDARD_DEVIATION\", \"MIN_MAX\"])\n",
    "oblique_space.choice(\"sparse_oblique_weights\", [\"BINARY\", \"CONTINUOUS\"])\n",
    "oblique_space.choice(\"sparse_oblique_num_projections_exponent\", [1.0, 1.5])\n",
    "\n",
    "# Tune the model. Notice the `tuner=tuner`.\n",
    "tuned_model = tfdf.keras.GradientBoostedTreesModel(tuner=tuner)\n",
    "tuned_model.fit(train_ds, verbose=0)\n",
    "\n",
    "tuned_self_evaluation = tuned_model.make_inspector().evaluation()\n",
    "print(f\"Accuracy: {tuned_self_evaluation.accuracy} Loss:{tuned_self_evaluation.loss}\")"
   ]
  },
  {
   "cell_type": "code",
   "execution_count": 18,
   "id": "5edd70e3-ad8d-43dd-896a-32c9567b20fc",
   "metadata": {
    "tags": []
   },
   "outputs": [
    {
     "name": "stderr",
     "output_type": "stream",
     "text": [
      "[WARNING 23-07-13 21:55:59.7124 EDT gradient_boosted_trees.cc:1818] \"goss_alpha\" set but \"sampling_method\" not equal to \"GOSS\".\n",
      "[WARNING 23-07-13 21:55:59.7125 EDT gradient_boosted_trees.cc:1829] \"goss_beta\" set but \"sampling_method\" not equal to \"GOSS\".\n",
      "[WARNING 23-07-13 21:55:59.7125 EDT gradient_boosted_trees.cc:1843] \"selective_gradient_boosting_ratio\" set but \"sampling_method\" not equal to \"SELGB\".\n"
     ]
    },
    {
     "name": "stdout",
     "output_type": "stream",
     "text": [
      "i:0\n"
     ]
    },
    {
     "name": "stderr",
     "output_type": "stream",
     "text": [
      "[INFO 23-07-13 21:55:59.9213 EDT kernel.cc:1243] Loading model from path /var/folders/wp/s6hl_fl57tnf8_1_ndx9w4hw0000gn/T/tmp00vx_f4d/model/ with prefix 91f19135562a4028\n",
      "[INFO 23-07-13 21:55:59.9231 EDT kernel.cc:1075] Use fast generic engine\n",
      "[WARNING 23-07-13 21:56:00.0986 EDT gradient_boosted_trees.cc:1818] \"goss_alpha\" set but \"sampling_method\" not equal to \"GOSS\".\n",
      "[WARNING 23-07-13 21:56:00.0986 EDT gradient_boosted_trees.cc:1829] \"goss_beta\" set but \"sampling_method\" not equal to \"GOSS\".\n",
      "[WARNING 23-07-13 21:56:00.0986 EDT gradient_boosted_trees.cc:1843] \"selective_gradient_boosting_ratio\" set but \"sampling_method\" not equal to \"SELGB\".\n"
     ]
    },
    {
     "name": "stdout",
     "output_type": "stream",
     "text": [
      "i:1\n"
     ]
    },
    {
     "name": "stderr",
     "output_type": "stream",
     "text": [
      "[INFO 23-07-13 21:56:00.3672 EDT kernel.cc:1243] Loading model from path /var/folders/wp/s6hl_fl57tnf8_1_ndx9w4hw0000gn/T/tmpy5x2g8e7/model/ with prefix 6c0e8f79b7334e30\n",
      "[INFO 23-07-13 21:56:00.3711 EDT kernel.cc:1075] Use fast generic engine\n",
      "[WARNING 23-07-13 21:56:00.5379 EDT gradient_boosted_trees.cc:1818] \"goss_alpha\" set but \"sampling_method\" not equal to \"GOSS\".\n",
      "[WARNING 23-07-13 21:56:00.5380 EDT gradient_boosted_trees.cc:1829] \"goss_beta\" set but \"sampling_method\" not equal to \"GOSS\".\n",
      "[WARNING 23-07-13 21:56:00.5380 EDT gradient_boosted_trees.cc:1843] \"selective_gradient_boosting_ratio\" set but \"sampling_method\" not equal to \"SELGB\".\n"
     ]
    },
    {
     "name": "stdout",
     "output_type": "stream",
     "text": [
      "i:2\n"
     ]
    },
    {
     "name": "stderr",
     "output_type": "stream",
     "text": [
      "[INFO 23-07-13 21:56:00.8145 EDT kernel.cc:1243] Loading model from path /var/folders/wp/s6hl_fl57tnf8_1_ndx9w4hw0000gn/T/tmpp99fanif/model/ with prefix cb2eed5d92de439c\n",
      "[INFO 23-07-13 21:56:00.8185 EDT kernel.cc:1075] Use fast generic engine\n",
      "[WARNING 23-07-13 21:56:00.9875 EDT gradient_boosted_trees.cc:1818] \"goss_alpha\" set but \"sampling_method\" not equal to \"GOSS\".\n",
      "[WARNING 23-07-13 21:56:00.9875 EDT gradient_boosted_trees.cc:1829] \"goss_beta\" set but \"sampling_method\" not equal to \"GOSS\".\n",
      "[WARNING 23-07-13 21:56:00.9876 EDT gradient_boosted_trees.cc:1843] \"selective_gradient_boosting_ratio\" set but \"sampling_method\" not equal to \"SELGB\".\n"
     ]
    },
    {
     "name": "stdout",
     "output_type": "stream",
     "text": [
      "i:3\n"
     ]
    },
    {
     "name": "stderr",
     "output_type": "stream",
     "text": [
      "[INFO 23-07-13 21:56:01.2310 EDT kernel.cc:1243] Loading model from path /var/folders/wp/s6hl_fl57tnf8_1_ndx9w4hw0000gn/T/tmp41yb4w18/model/ with prefix b852548c6e814768\n",
      "[INFO 23-07-13 21:56:01.2339 EDT kernel.cc:1075] Use fast generic engine\n",
      "[WARNING 23-07-13 21:56:01.4051 EDT gradient_boosted_trees.cc:1818] \"goss_alpha\" set but \"sampling_method\" not equal to \"GOSS\".\n",
      "[WARNING 23-07-13 21:56:01.4051 EDT gradient_boosted_trees.cc:1829] \"goss_beta\" set but \"sampling_method\" not equal to \"GOSS\".\n",
      "[WARNING 23-07-13 21:56:01.4051 EDT gradient_boosted_trees.cc:1843] \"selective_gradient_boosting_ratio\" set but \"sampling_method\" not equal to \"SELGB\".\n"
     ]
    },
    {
     "name": "stdout",
     "output_type": "stream",
     "text": [
      "i:4\n"
     ]
    },
    {
     "name": "stderr",
     "output_type": "stream",
     "text": [
      "[INFO 23-07-13 21:56:01.6130 EDT kernel.cc:1243] Loading model from path /var/folders/wp/s6hl_fl57tnf8_1_ndx9w4hw0000gn/T/tmpetrv8vja/model/ with prefix 19cbdaa545ec4b6e\n",
      "[INFO 23-07-13 21:56:01.6147 EDT kernel.cc:1075] Use fast generic engine\n",
      "[WARNING 23-07-13 21:56:01.7851 EDT gradient_boosted_trees.cc:1818] \"goss_alpha\" set but \"sampling_method\" not equal to \"GOSS\".\n",
      "[WARNING 23-07-13 21:56:01.7851 EDT gradient_boosted_trees.cc:1829] \"goss_beta\" set but \"sampling_method\" not equal to \"GOSS\".\n",
      "[WARNING 23-07-13 21:56:01.7851 EDT gradient_boosted_trees.cc:1843] \"selective_gradient_boosting_ratio\" set but \"sampling_method\" not equal to \"SELGB\".\n"
     ]
    },
    {
     "name": "stdout",
     "output_type": "stream",
     "text": [
      "i:5\n"
     ]
    },
    {
     "name": "stderr",
     "output_type": "stream",
     "text": [
      "[INFO 23-07-13 21:56:02.0003 EDT kernel.cc:1243] Loading model from path /var/folders/wp/s6hl_fl57tnf8_1_ndx9w4hw0000gn/T/tmpy496k1hp/model/ with prefix e788e7e3c38f4d3e\n",
      "[INFO 23-07-13 21:56:02.0023 EDT kernel.cc:1075] Use fast generic engine\n",
      "[WARNING 23-07-13 21:56:02.1750 EDT gradient_boosted_trees.cc:1818] \"goss_alpha\" set but \"sampling_method\" not equal to \"GOSS\".\n",
      "[WARNING 23-07-13 21:56:02.1751 EDT gradient_boosted_trees.cc:1829] \"goss_beta\" set but \"sampling_method\" not equal to \"GOSS\".\n",
      "[WARNING 23-07-13 21:56:02.1751 EDT gradient_boosted_trees.cc:1843] \"selective_gradient_boosting_ratio\" set but \"sampling_method\" not equal to \"SELGB\".\n"
     ]
    },
    {
     "name": "stdout",
     "output_type": "stream",
     "text": [
      "i:6\n"
     ]
    },
    {
     "name": "stderr",
     "output_type": "stream",
     "text": [
      "[INFO 23-07-13 21:56:02.4306 EDT kernel.cc:1243] Loading model from path /var/folders/wp/s6hl_fl57tnf8_1_ndx9w4hw0000gn/T/tmpch1e3b_w/model/ with prefix 2a9bcb5dedbc4492\n",
      "[INFO 23-07-13 21:56:02.4340 EDT kernel.cc:1075] Use fast generic engine\n",
      "[WARNING 23-07-13 21:56:02.6035 EDT gradient_boosted_trees.cc:1818] \"goss_alpha\" set but \"sampling_method\" not equal to \"GOSS\".\n",
      "[WARNING 23-07-13 21:56:02.6035 EDT gradient_boosted_trees.cc:1829] \"goss_beta\" set but \"sampling_method\" not equal to \"GOSS\".\n",
      "[WARNING 23-07-13 21:56:02.6035 EDT gradient_boosted_trees.cc:1843] \"selective_gradient_boosting_ratio\" set but \"sampling_method\" not equal to \"SELGB\".\n"
     ]
    },
    {
     "name": "stdout",
     "output_type": "stream",
     "text": [
      "i:7\n"
     ]
    },
    {
     "name": "stderr",
     "output_type": "stream",
     "text": [
      "[INFO 23-07-13 21:56:02.8293 EDT kernel.cc:1243] Loading model from path /var/folders/wp/s6hl_fl57tnf8_1_ndx9w4hw0000gn/T/tmpdtiiyqq5/model/ with prefix d5bd1f6d5c7a474a\n",
      "[INFO 23-07-13 21:56:02.8316 EDT kernel.cc:1075] Use fast generic engine\n",
      "[WARNING 23-07-13 21:56:02.9998 EDT gradient_boosted_trees.cc:1818] \"goss_alpha\" set but \"sampling_method\" not equal to \"GOSS\".\n",
      "[WARNING 23-07-13 21:56:02.9998 EDT gradient_boosted_trees.cc:1829] \"goss_beta\" set but \"sampling_method\" not equal to \"GOSS\".\n",
      "[WARNING 23-07-13 21:56:02.9998 EDT gradient_boosted_trees.cc:1843] \"selective_gradient_boosting_ratio\" set but \"sampling_method\" not equal to \"SELGB\".\n"
     ]
    },
    {
     "name": "stdout",
     "output_type": "stream",
     "text": [
      "i:8\n"
     ]
    },
    {
     "name": "stderr",
     "output_type": "stream",
     "text": [
      "[INFO 23-07-13 21:56:03.2862 EDT kernel.cc:1243] Loading model from path /var/folders/wp/s6hl_fl57tnf8_1_ndx9w4hw0000gn/T/tmpo7g3u0or/model/ with prefix c3ce8c87e3734032\n",
      "[INFO 23-07-13 21:56:03.2906 EDT kernel.cc:1075] Use fast generic engine\n",
      "[WARNING 23-07-13 21:56:03.4603 EDT gradient_boosted_trees.cc:1818] \"goss_alpha\" set but \"sampling_method\" not equal to \"GOSS\".\n",
      "[WARNING 23-07-13 21:56:03.4603 EDT gradient_boosted_trees.cc:1829] \"goss_beta\" set but \"sampling_method\" not equal to \"GOSS\".\n",
      "[WARNING 23-07-13 21:56:03.4603 EDT gradient_boosted_trees.cc:1843] \"selective_gradient_boosting_ratio\" set but \"sampling_method\" not equal to \"SELGB\".\n"
     ]
    },
    {
     "name": "stdout",
     "output_type": "stream",
     "text": [
      "i:9\n"
     ]
    },
    {
     "name": "stderr",
     "output_type": "stream",
     "text": [
      "[INFO 23-07-13 21:56:04.1975 EDT kernel.cc:1243] Loading model from path /var/folders/wp/s6hl_fl57tnf8_1_ndx9w4hw0000gn/T/tmpzbbclur3/model/ with prefix a95218ed8b9e4acf\n",
      "[INFO 23-07-13 21:56:04.2032 EDT kernel.cc:1075] Use fast generic engine\n",
      "[WARNING 23-07-13 21:56:04.3775 EDT gradient_boosted_trees.cc:1818] \"goss_alpha\" set but \"sampling_method\" not equal to \"GOSS\".\n",
      "[WARNING 23-07-13 21:56:04.3776 EDT gradient_boosted_trees.cc:1829] \"goss_beta\" set but \"sampling_method\" not equal to \"GOSS\".\n",
      "[WARNING 23-07-13 21:56:04.3776 EDT gradient_boosted_trees.cc:1843] \"selective_gradient_boosting_ratio\" set but \"sampling_method\" not equal to \"SELGB\".\n"
     ]
    },
    {
     "name": "stdout",
     "output_type": "stream",
     "text": [
      "i:10\n"
     ]
    },
    {
     "name": "stderr",
     "output_type": "stream",
     "text": [
      "[INFO 23-07-13 21:56:04.6097 EDT kernel.cc:1243] Loading model from path /var/folders/wp/s6hl_fl57tnf8_1_ndx9w4hw0000gn/T/tmp4gt3cpgc/model/ with prefix 2128bbe41669437e\n",
      "[INFO 23-07-13 21:56:04.6123 EDT kernel.cc:1075] Use fast generic engine\n",
      "[WARNING 23-07-13 21:56:04.7811 EDT gradient_boosted_trees.cc:1818] \"goss_alpha\" set but \"sampling_method\" not equal to \"GOSS\".\n",
      "[WARNING 23-07-13 21:56:04.7812 EDT gradient_boosted_trees.cc:1829] \"goss_beta\" set but \"sampling_method\" not equal to \"GOSS\".\n",
      "[WARNING 23-07-13 21:56:04.7812 EDT gradient_boosted_trees.cc:1843] \"selective_gradient_boosting_ratio\" set but \"sampling_method\" not equal to \"SELGB\".\n"
     ]
    },
    {
     "name": "stdout",
     "output_type": "stream",
     "text": [
      "i:11\n"
     ]
    },
    {
     "name": "stderr",
     "output_type": "stream",
     "text": [
      "[INFO 23-07-13 21:56:05.0869 EDT kernel.cc:1243] Loading model from path /var/folders/wp/s6hl_fl57tnf8_1_ndx9w4hw0000gn/T/tmpzqfa2_nb/model/ with prefix 231820c569794ca0\n",
      "[INFO 23-07-13 21:56:05.0921 EDT kernel.cc:1075] Use fast generic engine\n",
      "[WARNING 23-07-13 21:56:05.2605 EDT gradient_boosted_trees.cc:1818] \"goss_alpha\" set but \"sampling_method\" not equal to \"GOSS\".\n",
      "[WARNING 23-07-13 21:56:05.2605 EDT gradient_boosted_trees.cc:1829] \"goss_beta\" set but \"sampling_method\" not equal to \"GOSS\".\n",
      "[WARNING 23-07-13 21:56:05.2605 EDT gradient_boosted_trees.cc:1843] \"selective_gradient_boosting_ratio\" set but \"sampling_method\" not equal to \"SELGB\".\n"
     ]
    },
    {
     "name": "stdout",
     "output_type": "stream",
     "text": [
      "i:12\n"
     ]
    },
    {
     "name": "stderr",
     "output_type": "stream",
     "text": [
      "[INFO 23-07-13 21:56:05.5145 EDT kernel.cc:1243] Loading model from path /var/folders/wp/s6hl_fl57tnf8_1_ndx9w4hw0000gn/T/tmpqdngh36n/model/ with prefix 84cf0dfb3a64440e\n",
      "[INFO 23-07-13 21:56:05.5178 EDT kernel.cc:1075] Use fast generic engine\n",
      "[WARNING 23-07-13 21:56:05.6895 EDT gradient_boosted_trees.cc:1818] \"goss_alpha\" set but \"sampling_method\" not equal to \"GOSS\".\n",
      "[WARNING 23-07-13 21:56:05.6895 EDT gradient_boosted_trees.cc:1829] \"goss_beta\" set but \"sampling_method\" not equal to \"GOSS\".\n",
      "[WARNING 23-07-13 21:56:05.6895 EDT gradient_boosted_trees.cc:1843] \"selective_gradient_boosting_ratio\" set but \"sampling_method\" not equal to \"SELGB\".\n"
     ]
    },
    {
     "name": "stdout",
     "output_type": "stream",
     "text": [
      "i:13\n"
     ]
    },
    {
     "name": "stderr",
     "output_type": "stream",
     "text": [
      "[INFO 23-07-13 21:56:06.1348 EDT kernel.cc:1243] Loading model from path /var/folders/wp/s6hl_fl57tnf8_1_ndx9w4hw0000gn/T/tmpld_3tbmg/model/ with prefix 724cd96040604e80\n",
      "[INFO 23-07-13 21:56:06.1447 EDT kernel.cc:1075] Use fast generic engine\n",
      "[WARNING 23-07-13 21:56:06.3182 EDT gradient_boosted_trees.cc:1818] \"goss_alpha\" set but \"sampling_method\" not equal to \"GOSS\".\n",
      "[WARNING 23-07-13 21:56:06.3183 EDT gradient_boosted_trees.cc:1829] \"goss_beta\" set but \"sampling_method\" not equal to \"GOSS\".\n",
      "[WARNING 23-07-13 21:56:06.3183 EDT gradient_boosted_trees.cc:1843] \"selective_gradient_boosting_ratio\" set but \"sampling_method\" not equal to \"SELGB\".\n"
     ]
    },
    {
     "name": "stdout",
     "output_type": "stream",
     "text": [
      "i:14\n"
     ]
    },
    {
     "name": "stderr",
     "output_type": "stream",
     "text": [
      "[INFO 23-07-13 21:56:06.5521 EDT kernel.cc:1243] Loading model from path /var/folders/wp/s6hl_fl57tnf8_1_ndx9w4hw0000gn/T/tmp710xtk90/model/ with prefix 0badb10c1e87466d\n",
      "[INFO 23-07-13 21:56:06.5547 EDT kernel.cc:1075] Use fast generic engine\n",
      "[WARNING 23-07-13 21:56:06.7242 EDT gradient_boosted_trees.cc:1818] \"goss_alpha\" set but \"sampling_method\" not equal to \"GOSS\".\n",
      "[WARNING 23-07-13 21:56:06.7242 EDT gradient_boosted_trees.cc:1829] \"goss_beta\" set but \"sampling_method\" not equal to \"GOSS\".\n",
      "[WARNING 23-07-13 21:56:06.7242 EDT gradient_boosted_trees.cc:1843] \"selective_gradient_boosting_ratio\" set but \"sampling_method\" not equal to \"SELGB\".\n"
     ]
    },
    {
     "name": "stdout",
     "output_type": "stream",
     "text": [
      "i:15\n"
     ]
    },
    {
     "name": "stderr",
     "output_type": "stream",
     "text": [
      "[INFO 23-07-13 21:56:06.9397 EDT kernel.cc:1243] Loading model from path /var/folders/wp/s6hl_fl57tnf8_1_ndx9w4hw0000gn/T/tmpv43h7w2g/model/ with prefix f9d7d5ff8e5740ad\n",
      "[INFO 23-07-13 21:56:06.9415 EDT kernel.cc:1075] Use fast generic engine\n",
      "[WARNING 23-07-13 21:56:07.1117 EDT gradient_boosted_trees.cc:1818] \"goss_alpha\" set but \"sampling_method\" not equal to \"GOSS\".\n",
      "[WARNING 23-07-13 21:56:07.1117 EDT gradient_boosted_trees.cc:1829] \"goss_beta\" set but \"sampling_method\" not equal to \"GOSS\".\n",
      "[WARNING 23-07-13 21:56:07.1117 EDT gradient_boosted_trees.cc:1843] \"selective_gradient_boosting_ratio\" set but \"sampling_method\" not equal to \"SELGB\".\n"
     ]
    },
    {
     "name": "stdout",
     "output_type": "stream",
     "text": [
      "i:16\n"
     ]
    },
    {
     "name": "stderr",
     "output_type": "stream",
     "text": [
      "[INFO 23-07-13 21:56:07.3782 EDT kernel.cc:1243] Loading model from path /var/folders/wp/s6hl_fl57tnf8_1_ndx9w4hw0000gn/T/tmp0b2ji9xm/model/ with prefix 25f34659ff95460d\n",
      "[INFO 23-07-13 21:56:07.3820 EDT kernel.cc:1075] Use fast generic engine\n",
      "[WARNING 23-07-13 21:56:07.5508 EDT gradient_boosted_trees.cc:1818] \"goss_alpha\" set but \"sampling_method\" not equal to \"GOSS\".\n",
      "[WARNING 23-07-13 21:56:07.5509 EDT gradient_boosted_trees.cc:1829] \"goss_beta\" set but \"sampling_method\" not equal to \"GOSS\".\n",
      "[WARNING 23-07-13 21:56:07.5509 EDT gradient_boosted_trees.cc:1843] \"selective_gradient_boosting_ratio\" set but \"sampling_method\" not equal to \"SELGB\".\n"
     ]
    },
    {
     "name": "stdout",
     "output_type": "stream",
     "text": [
      "i:17\n"
     ]
    },
    {
     "name": "stderr",
     "output_type": "stream",
     "text": [
      "[INFO 23-07-13 21:56:07.7778 EDT kernel.cc:1243] Loading model from path /var/folders/wp/s6hl_fl57tnf8_1_ndx9w4hw0000gn/T/tmp2z_lvedt/model/ with prefix d08ef77a4f9a4f0b\n",
      "[INFO 23-07-13 21:56:07.7801 EDT kernel.cc:1075] Use fast generic engine\n",
      "[WARNING 23-07-13 21:56:07.9493 EDT gradient_boosted_trees.cc:1818] \"goss_alpha\" set but \"sampling_method\" not equal to \"GOSS\".\n",
      "[WARNING 23-07-13 21:56:07.9494 EDT gradient_boosted_trees.cc:1829] \"goss_beta\" set but \"sampling_method\" not equal to \"GOSS\".\n",
      "[WARNING 23-07-13 21:56:07.9494 EDT gradient_boosted_trees.cc:1843] \"selective_gradient_boosting_ratio\" set but \"sampling_method\" not equal to \"SELGB\".\n"
     ]
    },
    {
     "name": "stdout",
     "output_type": "stream",
     "text": [
      "i:18\n"
     ]
    },
    {
     "name": "stderr",
     "output_type": "stream",
     "text": [
      "[INFO 23-07-13 21:56:08.2375 EDT kernel.cc:1243] Loading model from path /var/folders/wp/s6hl_fl57tnf8_1_ndx9w4hw0000gn/T/tmpy3xjcanh/model/ with prefix e30b81b69ba24419\n",
      "[INFO 23-07-13 21:56:08.2419 EDT kernel.cc:1075] Use fast generic engine\n",
      "[WARNING 23-07-13 21:56:08.4134 EDT gradient_boosted_trees.cc:1818] \"goss_alpha\" set but \"sampling_method\" not equal to \"GOSS\".\n",
      "[WARNING 23-07-13 21:56:08.4134 EDT gradient_boosted_trees.cc:1829] \"goss_beta\" set but \"sampling_method\" not equal to \"GOSS\".\n",
      "[WARNING 23-07-13 21:56:08.4134 EDT gradient_boosted_trees.cc:1843] \"selective_gradient_boosting_ratio\" set but \"sampling_method\" not equal to \"SELGB\".\n"
     ]
    },
    {
     "name": "stdout",
     "output_type": "stream",
     "text": [
      "i:19\n"
     ]
    },
    {
     "name": "stderr",
     "output_type": "stream",
     "text": [
      "[INFO 23-07-13 21:56:08.7114 EDT kernel.cc:1243] Loading model from path /var/folders/wp/s6hl_fl57tnf8_1_ndx9w4hw0000gn/T/tmpioi05xb9/model/ with prefix e8ef8aed0ee84112\n",
      "[INFO 23-07-13 21:56:08.7159 EDT kernel.cc:1075] Use fast generic engine\n",
      "[WARNING 23-07-13 21:56:08.8858 EDT gradient_boosted_trees.cc:1818] \"goss_alpha\" set but \"sampling_method\" not equal to \"GOSS\".\n",
      "[WARNING 23-07-13 21:56:08.8858 EDT gradient_boosted_trees.cc:1829] \"goss_beta\" set but \"sampling_method\" not equal to \"GOSS\".\n",
      "[WARNING 23-07-13 21:56:08.8858 EDT gradient_boosted_trees.cc:1843] \"selective_gradient_boosting_ratio\" set but \"sampling_method\" not equal to \"SELGB\".\n"
     ]
    },
    {
     "name": "stdout",
     "output_type": "stream",
     "text": [
      "i:20\n"
     ]
    },
    {
     "name": "stderr",
     "output_type": "stream",
     "text": [
      "[INFO 23-07-13 21:56:09.1310 EDT kernel.cc:1243] Loading model from path /var/folders/wp/s6hl_fl57tnf8_1_ndx9w4hw0000gn/T/tmp9semcnc1/model/ with prefix d9375eb1880f499e\n",
      "[INFO 23-07-13 21:56:09.1332 EDT kernel.cc:1075] Use fast generic engine\n",
      "[WARNING 23-07-13 21:56:09.3053 EDT gradient_boosted_trees.cc:1818] \"goss_alpha\" set but \"sampling_method\" not equal to \"GOSS\".\n",
      "[WARNING 23-07-13 21:56:09.3053 EDT gradient_boosted_trees.cc:1829] \"goss_beta\" set but \"sampling_method\" not equal to \"GOSS\".\n",
      "[WARNING 23-07-13 21:56:09.3053 EDT gradient_boosted_trees.cc:1843] \"selective_gradient_boosting_ratio\" set but \"sampling_method\" not equal to \"SELGB\".\n"
     ]
    },
    {
     "name": "stdout",
     "output_type": "stream",
     "text": [
      "i:21\n"
     ]
    },
    {
     "name": "stderr",
     "output_type": "stream",
     "text": [
      "[INFO 23-07-13 21:56:09.5330 EDT kernel.cc:1243] Loading model from path /var/folders/wp/s6hl_fl57tnf8_1_ndx9w4hw0000gn/T/tmp1dvt10g7/model/ with prefix 1be82351edc0443e\n",
      "[INFO 23-07-13 21:56:09.5353 EDT kernel.cc:1075] Use fast generic engine\n",
      "[WARNING 23-07-13 21:56:09.7060 EDT gradient_boosted_trees.cc:1818] \"goss_alpha\" set but \"sampling_method\" not equal to \"GOSS\".\n",
      "[WARNING 23-07-13 21:56:09.7060 EDT gradient_boosted_trees.cc:1829] \"goss_beta\" set but \"sampling_method\" not equal to \"GOSS\".\n",
      "[WARNING 23-07-13 21:56:09.7060 EDT gradient_boosted_trees.cc:1843] \"selective_gradient_boosting_ratio\" set but \"sampling_method\" not equal to \"SELGB\".\n"
     ]
    },
    {
     "name": "stdout",
     "output_type": "stream",
     "text": [
      "i:22\n"
     ]
    },
    {
     "name": "stderr",
     "output_type": "stream",
     "text": [
      "[INFO 23-07-13 21:56:09.9642 EDT kernel.cc:1243] Loading model from path /var/folders/wp/s6hl_fl57tnf8_1_ndx9w4hw0000gn/T/tmprfc97z_4/model/ with prefix 82207e33684f445f\n",
      "[INFO 23-07-13 21:56:09.9674 EDT abstract_model.cc:1312] Engine \"GradientBoostedTreesQuickScorerExtended\" built\n",
      "[INFO 23-07-13 21:56:09.9675 EDT kernel.cc:1075] Use fast generic engine\n",
      "[WARNING 23-07-13 21:56:10.1380 EDT gradient_boosted_trees.cc:1818] \"goss_alpha\" set but \"sampling_method\" not equal to \"GOSS\".\n",
      "[WARNING 23-07-13 21:56:10.1381 EDT gradient_boosted_trees.cc:1829] \"goss_beta\" set but \"sampling_method\" not equal to \"GOSS\".\n",
      "[WARNING 23-07-13 21:56:10.1381 EDT gradient_boosted_trees.cc:1843] \"selective_gradient_boosting_ratio\" set but \"sampling_method\" not equal to \"SELGB\".\n"
     ]
    },
    {
     "name": "stdout",
     "output_type": "stream",
     "text": [
      "i:23\n"
     ]
    },
    {
     "name": "stderr",
     "output_type": "stream",
     "text": [
      "[INFO 23-07-13 21:56:10.3667 EDT kernel.cc:1243] Loading model from path /var/folders/wp/s6hl_fl57tnf8_1_ndx9w4hw0000gn/T/tmpzvbrdmlk/model/ with prefix 0244f93ffa024885\n",
      "[INFO 23-07-13 21:56:10.3690 EDT kernel.cc:1075] Use fast generic engine\n",
      "[WARNING 23-07-13 21:56:10.5476 EDT gradient_boosted_trees.cc:1818] \"goss_alpha\" set but \"sampling_method\" not equal to \"GOSS\".\n",
      "[WARNING 23-07-13 21:56:10.5476 EDT gradient_boosted_trees.cc:1829] \"goss_beta\" set but \"sampling_method\" not equal to \"GOSS\".\n",
      "[WARNING 23-07-13 21:56:10.5477 EDT gradient_boosted_trees.cc:1843] \"selective_gradient_boosting_ratio\" set but \"sampling_method\" not equal to \"SELGB\".\n"
     ]
    },
    {
     "name": "stdout",
     "output_type": "stream",
     "text": [
      "i:24\n"
     ]
    },
    {
     "name": "stderr",
     "output_type": "stream",
     "text": [
      "[INFO 23-07-13 21:56:10.7752 EDT kernel.cc:1243] Loading model from path /var/folders/wp/s6hl_fl57tnf8_1_ndx9w4hw0000gn/T/tmp6597wlik/model/ with prefix 79ecfaef4b0d4ce8\n",
      "[INFO 23-07-13 21:56:10.7776 EDT kernel.cc:1075] Use fast generic engine\n",
      "[WARNING 23-07-13 21:56:10.9558 EDT gradient_boosted_trees.cc:1818] \"goss_alpha\" set but \"sampling_method\" not equal to \"GOSS\".\n",
      "[WARNING 23-07-13 21:56:10.9559 EDT gradient_boosted_trees.cc:1829] \"goss_beta\" set but \"sampling_method\" not equal to \"GOSS\".\n",
      "[WARNING 23-07-13 21:56:10.9559 EDT gradient_boosted_trees.cc:1843] \"selective_gradient_boosting_ratio\" set but \"sampling_method\" not equal to \"SELGB\".\n"
     ]
    },
    {
     "name": "stdout",
     "output_type": "stream",
     "text": [
      "i:25\n"
     ]
    },
    {
     "name": "stderr",
     "output_type": "stream",
     "text": [
      "[INFO 23-07-13 21:56:11.2089 EDT kernel.cc:1243] Loading model from path /var/folders/wp/s6hl_fl57tnf8_1_ndx9w4hw0000gn/T/tmpiwzkaiwq/model/ with prefix 0e66611345fe47fc\n",
      "[INFO 23-07-13 21:56:11.2120 EDT kernel.cc:1075] Use fast generic engine\n",
      "[WARNING 23-07-13 21:56:11.3835 EDT gradient_boosted_trees.cc:1818] \"goss_alpha\" set but \"sampling_method\" not equal to \"GOSS\".\n",
      "[WARNING 23-07-13 21:56:11.3835 EDT gradient_boosted_trees.cc:1829] \"goss_beta\" set but \"sampling_method\" not equal to \"GOSS\".\n",
      "[WARNING 23-07-13 21:56:11.3835 EDT gradient_boosted_trees.cc:1843] \"selective_gradient_boosting_ratio\" set but \"sampling_method\" not equal to \"SELGB\".\n"
     ]
    },
    {
     "name": "stdout",
     "output_type": "stream",
     "text": [
      "i:26\n"
     ]
    },
    {
     "name": "stderr",
     "output_type": "stream",
     "text": [
      "[INFO 23-07-13 21:56:11.6009 EDT kernel.cc:1243] Loading model from path /var/folders/wp/s6hl_fl57tnf8_1_ndx9w4hw0000gn/T/tmpd98s2n4n/model/ with prefix ffee0a79e6984d27\n",
      "[INFO 23-07-13 21:56:11.6028 EDT kernel.cc:1075] Use fast generic engine\n",
      "[WARNING 23-07-13 21:56:11.7832 EDT gradient_boosted_trees.cc:1818] \"goss_alpha\" set but \"sampling_method\" not equal to \"GOSS\".\n",
      "[WARNING 23-07-13 21:56:11.7833 EDT gradient_boosted_trees.cc:1829] \"goss_beta\" set but \"sampling_method\" not equal to \"GOSS\".\n",
      "[WARNING 23-07-13 21:56:11.7833 EDT gradient_boosted_trees.cc:1843] \"selective_gradient_boosting_ratio\" set but \"sampling_method\" not equal to \"SELGB\".\n"
     ]
    },
    {
     "name": "stdout",
     "output_type": "stream",
     "text": [
      "i:27\n"
     ]
    },
    {
     "name": "stderr",
     "output_type": "stream",
     "text": [
      "[INFO 23-07-13 21:56:12.0657 EDT kernel.cc:1243] Loading model from path /var/folders/wp/s6hl_fl57tnf8_1_ndx9w4hw0000gn/T/tmpqajmi236/model/ with prefix 2145bcff07c94706\n",
      "[INFO 23-07-13 21:56:12.0701 EDT kernel.cc:1075] Use fast generic engine\n",
      "[WARNING 23-07-13 21:56:12.2461 EDT gradient_boosted_trees.cc:1818] \"goss_alpha\" set but \"sampling_method\" not equal to \"GOSS\".\n",
      "[WARNING 23-07-13 21:56:12.2461 EDT gradient_boosted_trees.cc:1829] \"goss_beta\" set but \"sampling_method\" not equal to \"GOSS\".\n",
      "[WARNING 23-07-13 21:56:12.2461 EDT gradient_boosted_trees.cc:1843] \"selective_gradient_boosting_ratio\" set but \"sampling_method\" not equal to \"SELGB\".\n"
     ]
    },
    {
     "name": "stdout",
     "output_type": "stream",
     "text": [
      "i:28\n"
     ]
    },
    {
     "name": "stderr",
     "output_type": "stream",
     "text": [
      "[INFO 23-07-13 21:56:12.4463 EDT kernel.cc:1243] Loading model from path /var/folders/wp/s6hl_fl57tnf8_1_ndx9w4hw0000gn/T/tmp2bz9xn5h/model/ with prefix 6c102ff772c949f5\n",
      "[INFO 23-07-13 21:56:12.4525 EDT kernel.cc:1075] Use fast generic engine\n",
      "[WARNING 23-07-13 21:56:12.6232 EDT gradient_boosted_trees.cc:1818] \"goss_alpha\" set but \"sampling_method\" not equal to \"GOSS\".\n",
      "[WARNING 23-07-13 21:56:12.6232 EDT gradient_boosted_trees.cc:1829] \"goss_beta\" set but \"sampling_method\" not equal to \"GOSS\".\n",
      "[WARNING 23-07-13 21:56:12.6232 EDT gradient_boosted_trees.cc:1843] \"selective_gradient_boosting_ratio\" set but \"sampling_method\" not equal to \"SELGB\".\n"
     ]
    },
    {
     "name": "stdout",
     "output_type": "stream",
     "text": [
      "i:29\n"
     ]
    },
    {
     "name": "stderr",
     "output_type": "stream",
     "text": [
      "[INFO 23-07-13 21:56:12.8427 EDT kernel.cc:1243] Loading model from path /var/folders/wp/s6hl_fl57tnf8_1_ndx9w4hw0000gn/T/tmp9cdpqx_q/model/ with prefix 1c43c12f4c2d4d83\n",
      "[INFO 23-07-13 21:56:12.8446 EDT kernel.cc:1075] Use fast generic engine\n",
      "[WARNING 23-07-13 21:56:13.0161 EDT gradient_boosted_trees.cc:1818] \"goss_alpha\" set but \"sampling_method\" not equal to \"GOSS\".\n",
      "[WARNING 23-07-13 21:56:13.0161 EDT gradient_boosted_trees.cc:1829] \"goss_beta\" set but \"sampling_method\" not equal to \"GOSS\".\n",
      "[WARNING 23-07-13 21:56:13.0161 EDT gradient_boosted_trees.cc:1843] \"selective_gradient_boosting_ratio\" set but \"sampling_method\" not equal to \"SELGB\".\n"
     ]
    },
    {
     "name": "stdout",
     "output_type": "stream",
     "text": [
      "i:30\n"
     ]
    },
    {
     "name": "stderr",
     "output_type": "stream",
     "text": [
      "[INFO 23-07-13 21:56:13.2901 EDT kernel.cc:1243] Loading model from path /var/folders/wp/s6hl_fl57tnf8_1_ndx9w4hw0000gn/T/tmp5v9wrjme/model/ with prefix 4b4c23a60ae44457\n",
      "[INFO 23-07-13 21:56:13.2940 EDT kernel.cc:1075] Use fast generic engine\n",
      "[WARNING 23-07-13 21:56:13.4645 EDT gradient_boosted_trees.cc:1818] \"goss_alpha\" set but \"sampling_method\" not equal to \"GOSS\".\n",
      "[WARNING 23-07-13 21:56:13.4646 EDT gradient_boosted_trees.cc:1829] \"goss_beta\" set but \"sampling_method\" not equal to \"GOSS\".\n",
      "[WARNING 23-07-13 21:56:13.4646 EDT gradient_boosted_trees.cc:1843] \"selective_gradient_boosting_ratio\" set but \"sampling_method\" not equal to \"SELGB\".\n"
     ]
    },
    {
     "name": "stdout",
     "output_type": "stream",
     "text": [
      "i:31\n"
     ]
    },
    {
     "name": "stderr",
     "output_type": "stream",
     "text": [
      "[INFO 23-07-13 21:56:13.8087 EDT kernel.cc:1243] Loading model from path /var/folders/wp/s6hl_fl57tnf8_1_ndx9w4hw0000gn/T/tmpmdf22rqv/model/ with prefix 88aea7cc6d854040\n",
      "[INFO 23-07-13 21:56:13.8144 EDT kernel.cc:1075] Use fast generic engine\n",
      "[WARNING 23-07-13 21:56:13.9860 EDT gradient_boosted_trees.cc:1818] \"goss_alpha\" set but \"sampling_method\" not equal to \"GOSS\".\n",
      "[WARNING 23-07-13 21:56:13.9860 EDT gradient_boosted_trees.cc:1829] \"goss_beta\" set but \"sampling_method\" not equal to \"GOSS\".\n",
      "[WARNING 23-07-13 21:56:13.9860 EDT gradient_boosted_trees.cc:1843] \"selective_gradient_boosting_ratio\" set but \"sampling_method\" not equal to \"SELGB\".\n"
     ]
    },
    {
     "name": "stdout",
     "output_type": "stream",
     "text": [
      "i:32\n"
     ]
    },
    {
     "name": "stderr",
     "output_type": "stream",
     "text": [
      "[INFO 23-07-13 21:56:14.2214 EDT kernel.cc:1243] Loading model from path /var/folders/wp/s6hl_fl57tnf8_1_ndx9w4hw0000gn/T/tmppemqjo8d/model/ with prefix 12eb60b94275496d\n",
      "[INFO 23-07-13 21:56:14.2239 EDT kernel.cc:1075] Use fast generic engine\n",
      "[WARNING 23-07-13 21:56:14.3931 EDT gradient_boosted_trees.cc:1818] \"goss_alpha\" set but \"sampling_method\" not equal to \"GOSS\".\n",
      "[WARNING 23-07-13 21:56:14.3931 EDT gradient_boosted_trees.cc:1829] \"goss_beta\" set but \"sampling_method\" not equal to \"GOSS\".\n",
      "[WARNING 23-07-13 21:56:14.3931 EDT gradient_boosted_trees.cc:1843] \"selective_gradient_boosting_ratio\" set but \"sampling_method\" not equal to \"SELGB\".\n"
     ]
    },
    {
     "name": "stdout",
     "output_type": "stream",
     "text": [
      "i:33\n"
     ]
    },
    {
     "name": "stderr",
     "output_type": "stream",
     "text": [
      "[INFO 23-07-13 21:56:14.6436 EDT kernel.cc:1243] Loading model from path /var/folders/wp/s6hl_fl57tnf8_1_ndx9w4hw0000gn/T/tmp5oykyddc/model/ with prefix 16bdb1c77878484e\n",
      "[INFO 23-07-13 21:56:14.6467 EDT kernel.cc:1075] Use fast generic engine\n",
      "[WARNING 23-07-13 21:56:14.8188 EDT gradient_boosted_trees.cc:1818] \"goss_alpha\" set but \"sampling_method\" not equal to \"GOSS\".\n",
      "[WARNING 23-07-13 21:56:14.8189 EDT gradient_boosted_trees.cc:1829] \"goss_beta\" set but \"sampling_method\" not equal to \"GOSS\".\n",
      "[WARNING 23-07-13 21:56:14.8189 EDT gradient_boosted_trees.cc:1843] \"selective_gradient_boosting_ratio\" set but \"sampling_method\" not equal to \"SELGB\".\n"
     ]
    },
    {
     "name": "stdout",
     "output_type": "stream",
     "text": [
      "i:34\n"
     ]
    },
    {
     "name": "stderr",
     "output_type": "stream",
     "text": [
      "[INFO 23-07-13 21:56:15.0464 EDT kernel.cc:1243] Loading model from path /var/folders/wp/s6hl_fl57tnf8_1_ndx9w4hw0000gn/T/tmps0_1dffg/model/ with prefix 327c96779ed74836\n",
      "[INFO 23-07-13 21:56:15.0487 EDT kernel.cc:1075] Use fast generic engine\n",
      "[WARNING 23-07-13 21:56:15.2189 EDT gradient_boosted_trees.cc:1818] \"goss_alpha\" set but \"sampling_method\" not equal to \"GOSS\".\n",
      "[WARNING 23-07-13 21:56:15.2189 EDT gradient_boosted_trees.cc:1829] \"goss_beta\" set but \"sampling_method\" not equal to \"GOSS\".\n",
      "[WARNING 23-07-13 21:56:15.2189 EDT gradient_boosted_trees.cc:1843] \"selective_gradient_boosting_ratio\" set but \"sampling_method\" not equal to \"SELGB\".\n"
     ]
    },
    {
     "name": "stdout",
     "output_type": "stream",
     "text": [
      "i:35\n"
     ]
    },
    {
     "name": "stderr",
     "output_type": "stream",
     "text": [
      "[INFO 23-07-13 21:56:15.4772 EDT kernel.cc:1243] Loading model from path /var/folders/wp/s6hl_fl57tnf8_1_ndx9w4hw0000gn/T/tmpofsc05oo/model/ with prefix 601c075d0db84668\n",
      "[INFO 23-07-13 21:56:15.4813 EDT kernel.cc:1075] Use fast generic engine\n",
      "[WARNING 23-07-13 21:56:15.6558 EDT gradient_boosted_trees.cc:1818] \"goss_alpha\" set but \"sampling_method\" not equal to \"GOSS\".\n",
      "[WARNING 23-07-13 21:56:15.6558 EDT gradient_boosted_trees.cc:1829] \"goss_beta\" set but \"sampling_method\" not equal to \"GOSS\".\n",
      "[WARNING 23-07-13 21:56:15.6559 EDT gradient_boosted_trees.cc:1843] \"selective_gradient_boosting_ratio\" set but \"sampling_method\" not equal to \"SELGB\".\n"
     ]
    },
    {
     "name": "stdout",
     "output_type": "stream",
     "text": [
      "i:36\n"
     ]
    },
    {
     "name": "stderr",
     "output_type": "stream",
     "text": [
      "[INFO 23-07-13 21:56:15.8794 EDT kernel.cc:1243] Loading model from path /var/folders/wp/s6hl_fl57tnf8_1_ndx9w4hw0000gn/T/tmpb1ad0ss4/model/ with prefix 166804b9519a4528\n",
      "[INFO 23-07-13 21:56:15.8815 EDT kernel.cc:1075] Use fast generic engine\n",
      "[WARNING 23-07-13 21:56:16.0556 EDT gradient_boosted_trees.cc:1818] \"goss_alpha\" set but \"sampling_method\" not equal to \"GOSS\".\n",
      "[WARNING 23-07-13 21:56:16.0557 EDT gradient_boosted_trees.cc:1829] \"goss_beta\" set but \"sampling_method\" not equal to \"GOSS\".\n",
      "[WARNING 23-07-13 21:56:16.0557 EDT gradient_boosted_trees.cc:1843] \"selective_gradient_boosting_ratio\" set but \"sampling_method\" not equal to \"SELGB\".\n"
     ]
    },
    {
     "name": "stdout",
     "output_type": "stream",
     "text": [
      "i:37\n"
     ]
    },
    {
     "name": "stderr",
     "output_type": "stream",
     "text": [
      "[INFO 23-07-13 21:56:16.2752 EDT kernel.cc:1243] Loading model from path /var/folders/wp/s6hl_fl57tnf8_1_ndx9w4hw0000gn/T/tmpg1hkh5uy/model/ with prefix 71b60b735e604c9b\n",
      "[INFO 23-07-13 21:56:16.2776 EDT kernel.cc:1075] Use fast generic engine\n",
      "[WARNING 23-07-13 21:56:16.4525 EDT gradient_boosted_trees.cc:1818] \"goss_alpha\" set but \"sampling_method\" not equal to \"GOSS\".\n",
      "[WARNING 23-07-13 21:56:16.4525 EDT gradient_boosted_trees.cc:1829] \"goss_beta\" set but \"sampling_method\" not equal to \"GOSS\".\n",
      "[WARNING 23-07-13 21:56:16.4525 EDT gradient_boosted_trees.cc:1843] \"selective_gradient_boosting_ratio\" set but \"sampling_method\" not equal to \"SELGB\".\n"
     ]
    },
    {
     "name": "stdout",
     "output_type": "stream",
     "text": [
      "i:38\n"
     ]
    },
    {
     "name": "stderr",
     "output_type": "stream",
     "text": [
      "[INFO 23-07-13 21:56:16.7172 EDT kernel.cc:1243] Loading model from path /var/folders/wp/s6hl_fl57tnf8_1_ndx9w4hw0000gn/T/tmpnl2rb96u/model/ with prefix 2ebb7f5f705743af\n",
      "[INFO 23-07-13 21:56:16.7206 EDT kernel.cc:1075] Use fast generic engine\n",
      "[WARNING 23-07-13 21:56:16.8952 EDT gradient_boosted_trees.cc:1818] \"goss_alpha\" set but \"sampling_method\" not equal to \"GOSS\".\n",
      "[WARNING 23-07-13 21:56:16.8953 EDT gradient_boosted_trees.cc:1829] \"goss_beta\" set but \"sampling_method\" not equal to \"GOSS\".\n",
      "[WARNING 23-07-13 21:56:16.8953 EDT gradient_boosted_trees.cc:1843] \"selective_gradient_boosting_ratio\" set but \"sampling_method\" not equal to \"SELGB\".\n"
     ]
    },
    {
     "name": "stdout",
     "output_type": "stream",
     "text": [
      "i:39\n"
     ]
    },
    {
     "name": "stderr",
     "output_type": "stream",
     "text": [
      "[INFO 23-07-13 21:56:17.1752 EDT kernel.cc:1243] Loading model from path /var/folders/wp/s6hl_fl57tnf8_1_ndx9w4hw0000gn/T/tmpq_vuikft/model/ with prefix 003af1084ea14909\n",
      "[INFO 23-07-13 21:56:17.1792 EDT kernel.cc:1075] Use fast generic engine\n"
     ]
    },
    {
     "name": "stdout",
     "output_type": "stream",
     "text": [
      "i:40\n"
     ]
    },
    {
     "name": "stderr",
     "output_type": "stream",
     "text": [
      "[WARNING 23-07-13 21:56:17.7550 EDT gradient_boosted_trees.cc:1818] \"goss_alpha\" set but \"sampling_method\" not equal to \"GOSS\".\n",
      "[WARNING 23-07-13 21:56:17.7551 EDT gradient_boosted_trees.cc:1829] \"goss_beta\" set but \"sampling_method\" not equal to \"GOSS\".\n",
      "[WARNING 23-07-13 21:56:17.7551 EDT gradient_boosted_trees.cc:1843] \"selective_gradient_boosting_ratio\" set but \"sampling_method\" not equal to \"SELGB\".\n",
      "[INFO 23-07-13 21:56:17.9901 EDT kernel.cc:1243] Loading model from path /var/folders/wp/s6hl_fl57tnf8_1_ndx9w4hw0000gn/T/tmps4dcsd42/model/ with prefix 4781c9a2909f4896\n",
      "[INFO 23-07-13 21:56:17.9926 EDT kernel.cc:1075] Use fast generic engine\n",
      "[WARNING 23-07-13 21:56:18.1682 EDT gradient_boosted_trees.cc:1818] \"goss_alpha\" set but \"sampling_method\" not equal to \"GOSS\".\n",
      "[WARNING 23-07-13 21:56:18.1682 EDT gradient_boosted_trees.cc:1829] \"goss_beta\" set but \"sampling_method\" not equal to \"GOSS\".\n",
      "[WARNING 23-07-13 21:56:18.1682 EDT gradient_boosted_trees.cc:1843] \"selective_gradient_boosting_ratio\" set but \"sampling_method\" not equal to \"SELGB\".\n"
     ]
    },
    {
     "name": "stdout",
     "output_type": "stream",
     "text": [
      "i:41\n"
     ]
    },
    {
     "name": "stderr",
     "output_type": "stream",
     "text": [
      "[INFO 23-07-13 21:56:18.4435 EDT kernel.cc:1243] Loading model from path /var/folders/wp/s6hl_fl57tnf8_1_ndx9w4hw0000gn/T/tmpypgpikar/model/ with prefix 11a856053ec24a48\n",
      "[INFO 23-07-13 21:56:18.4475 EDT kernel.cc:1075] Use fast generic engine\n",
      "[WARNING 23-07-13 21:56:18.6184 EDT gradient_boosted_trees.cc:1818] \"goss_alpha\" set but \"sampling_method\" not equal to \"GOSS\".\n",
      "[WARNING 23-07-13 21:56:18.6184 EDT gradient_boosted_trees.cc:1829] \"goss_beta\" set but \"sampling_method\" not equal to \"GOSS\".\n",
      "[WARNING 23-07-13 21:56:18.6184 EDT gradient_boosted_trees.cc:1843] \"selective_gradient_boosting_ratio\" set but \"sampling_method\" not equal to \"SELGB\".\n"
     ]
    },
    {
     "name": "stdout",
     "output_type": "stream",
     "text": [
      "i:42\n"
     ]
    },
    {
     "name": "stderr",
     "output_type": "stream",
     "text": [
      "[INFO 23-07-13 21:56:18.8669 EDT kernel.cc:1243] Loading model from path /var/folders/wp/s6hl_fl57tnf8_1_ndx9w4hw0000gn/T/tmpbpwu59_y/model/ with prefix 6cad5d46dc5141a3\n",
      "[INFO 23-07-13 21:56:18.8696 EDT kernel.cc:1075] Use fast generic engine\n",
      "[WARNING 23-07-13 21:56:19.0466 EDT gradient_boosted_trees.cc:1818] \"goss_alpha\" set but \"sampling_method\" not equal to \"GOSS\".\n",
      "[WARNING 23-07-13 21:56:19.0466 EDT gradient_boosted_trees.cc:1829] \"goss_beta\" set but \"sampling_method\" not equal to \"GOSS\".\n",
      "[WARNING 23-07-13 21:56:19.0466 EDT gradient_boosted_trees.cc:1843] \"selective_gradient_boosting_ratio\" set but \"sampling_method\" not equal to \"SELGB\".\n"
     ]
    },
    {
     "name": "stdout",
     "output_type": "stream",
     "text": [
      "i:43\n"
     ]
    },
    {
     "name": "stderr",
     "output_type": "stream",
     "text": [
      "[INFO 23-07-13 21:56:19.3244 EDT kernel.cc:1243] Loading model from path /var/folders/wp/s6hl_fl57tnf8_1_ndx9w4hw0000gn/T/tmpg8vq3y4w/model/ with prefix 5378eaf2cf914112\n",
      "[INFO 23-07-13 21:56:19.3279 EDT kernel.cc:1075] Use fast generic engine\n",
      "[WARNING 23-07-13 21:56:19.5016 EDT gradient_boosted_trees.cc:1818] \"goss_alpha\" set but \"sampling_method\" not equal to \"GOSS\".\n",
      "[WARNING 23-07-13 21:56:19.5017 EDT gradient_boosted_trees.cc:1829] \"goss_beta\" set but \"sampling_method\" not equal to \"GOSS\".\n",
      "[WARNING 23-07-13 21:56:19.5017 EDT gradient_boosted_trees.cc:1843] \"selective_gradient_boosting_ratio\" set but \"sampling_method\" not equal to \"SELGB\".\n"
     ]
    },
    {
     "name": "stdout",
     "output_type": "stream",
     "text": [
      "i:44\n"
     ]
    },
    {
     "name": "stderr",
     "output_type": "stream",
     "text": [
      "[INFO 23-07-13 21:56:19.7400 EDT kernel.cc:1243] Loading model from path /var/folders/wp/s6hl_fl57tnf8_1_ndx9w4hw0000gn/T/tmpk8qp2_pg/model/ with prefix 0beb9a6b900248e6\n",
      "[INFO 23-07-13 21:56:19.7425 EDT kernel.cc:1075] Use fast generic engine\n",
      "[WARNING 23-07-13 21:56:19.9136 EDT gradient_boosted_trees.cc:1818] \"goss_alpha\" set but \"sampling_method\" not equal to \"GOSS\".\n",
      "[WARNING 23-07-13 21:56:19.9136 EDT gradient_boosted_trees.cc:1829] \"goss_beta\" set but \"sampling_method\" not equal to \"GOSS\".\n",
      "[WARNING 23-07-13 21:56:19.9136 EDT gradient_boosted_trees.cc:1843] \"selective_gradient_boosting_ratio\" set but \"sampling_method\" not equal to \"SELGB\".\n"
     ]
    },
    {
     "name": "stdout",
     "output_type": "stream",
     "text": [
      "i:45\n"
     ]
    },
    {
     "name": "stderr",
     "output_type": "stream",
     "text": [
      "[INFO 23-07-13 21:56:20.1162 EDT kernel.cc:1243] Loading model from path /var/folders/wp/s6hl_fl57tnf8_1_ndx9w4hw0000gn/T/tmpedctp3ev/model/ with prefix 5c4b68951ea347b8\n",
      "[INFO 23-07-13 21:56:20.1175 EDT abstract_model.cc:1312] Engine \"GradientBoostedTreesQuickScorerExtended\" built\n",
      "[INFO 23-07-13 21:56:20.1175 EDT kernel.cc:1075] Use fast generic engine\n",
      "[WARNING 23-07-13 21:56:20.2937 EDT gradient_boosted_trees.cc:1818] \"goss_alpha\" set but \"sampling_method\" not equal to \"GOSS\".\n",
      "[WARNING 23-07-13 21:56:20.2938 EDT gradient_boosted_trees.cc:1829] \"goss_beta\" set but \"sampling_method\" not equal to \"GOSS\".\n",
      "[WARNING 23-07-13 21:56:20.2938 EDT gradient_boosted_trees.cc:1843] \"selective_gradient_boosting_ratio\" set but \"sampling_method\" not equal to \"SELGB\".\n"
     ]
    },
    {
     "name": "stdout",
     "output_type": "stream",
     "text": [
      "i:46\n"
     ]
    },
    {
     "name": "stderr",
     "output_type": "stream",
     "text": [
      "[INFO 23-07-13 21:56:20.5580 EDT kernel.cc:1243] Loading model from path /var/folders/wp/s6hl_fl57tnf8_1_ndx9w4hw0000gn/T/tmpfzp9aiy6/model/ with prefix 2fb38ced8a9b4f30\n",
      "[INFO 23-07-13 21:56:20.5616 EDT kernel.cc:1075] Use fast generic engine\n",
      "[WARNING 23-07-13 21:56:20.7332 EDT gradient_boosted_trees.cc:1818] \"goss_alpha\" set but \"sampling_method\" not equal to \"GOSS\".\n",
      "[WARNING 23-07-13 21:56:20.7332 EDT gradient_boosted_trees.cc:1829] \"goss_beta\" set but \"sampling_method\" not equal to \"GOSS\".\n",
      "[WARNING 23-07-13 21:56:20.7332 EDT gradient_boosted_trees.cc:1843] \"selective_gradient_boosting_ratio\" set but \"sampling_method\" not equal to \"SELGB\".\n"
     ]
    },
    {
     "name": "stdout",
     "output_type": "stream",
     "text": [
      "i:47\n"
     ]
    },
    {
     "name": "stderr",
     "output_type": "stream",
     "text": [
      "[INFO 23-07-13 21:56:20.9668 EDT kernel.cc:1243] Loading model from path /var/folders/wp/s6hl_fl57tnf8_1_ndx9w4hw0000gn/T/tmpcm69gycb/model/ with prefix 8e6d9813fc4e4388\n",
      "[INFO 23-07-13 21:56:20.9692 EDT kernel.cc:1075] Use fast generic engine\n",
      "[WARNING 23-07-13 21:56:21.1415 EDT gradient_boosted_trees.cc:1818] \"goss_alpha\" set but \"sampling_method\" not equal to \"GOSS\".\n",
      "[WARNING 23-07-13 21:56:21.1416 EDT gradient_boosted_trees.cc:1829] \"goss_beta\" set but \"sampling_method\" not equal to \"GOSS\".\n",
      "[WARNING 23-07-13 21:56:21.1416 EDT gradient_boosted_trees.cc:1843] \"selective_gradient_boosting_ratio\" set but \"sampling_method\" not equal to \"SELGB\".\n"
     ]
    },
    {
     "name": "stdout",
     "output_type": "stream",
     "text": [
      "i:48\n"
     ]
    },
    {
     "name": "stderr",
     "output_type": "stream",
     "text": [
      "[INFO 23-07-13 21:56:21.3638 EDT kernel.cc:1243] Loading model from path /var/folders/wp/s6hl_fl57tnf8_1_ndx9w4hw0000gn/T/tmp33sgjfiv/model/ with prefix 699e31ef06694051\n",
      "[INFO 23-07-13 21:56:21.3658 EDT kernel.cc:1075] Use fast generic engine\n",
      "[WARNING 23-07-13 21:56:21.5389 EDT gradient_boosted_trees.cc:1818] \"goss_alpha\" set but \"sampling_method\" not equal to \"GOSS\".\n",
      "[WARNING 23-07-13 21:56:21.5389 EDT gradient_boosted_trees.cc:1829] \"goss_beta\" set but \"sampling_method\" not equal to \"GOSS\".\n",
      "[WARNING 23-07-13 21:56:21.5389 EDT gradient_boosted_trees.cc:1843] \"selective_gradient_boosting_ratio\" set but \"sampling_method\" not equal to \"SELGB\".\n"
     ]
    },
    {
     "name": "stdout",
     "output_type": "stream",
     "text": [
      "i:49\n"
     ]
    },
    {
     "name": "stderr",
     "output_type": "stream",
     "text": [
      "[INFO 23-07-13 21:56:21.7934 EDT kernel.cc:1243] Loading model from path /var/folders/wp/s6hl_fl57tnf8_1_ndx9w4hw0000gn/T/tmpz7ccka1n/model/ with prefix 4997f561b52c46eb\n",
      "[INFO 23-07-13 21:56:21.7965 EDT kernel.cc:1075] Use fast generic engine\n",
      "[WARNING 23-07-13 21:56:21.9697 EDT gradient_boosted_trees.cc:1818] \"goss_alpha\" set but \"sampling_method\" not equal to \"GOSS\".\n",
      "[WARNING 23-07-13 21:56:21.9697 EDT gradient_boosted_trees.cc:1829] \"goss_beta\" set but \"sampling_method\" not equal to \"GOSS\".\n",
      "[WARNING 23-07-13 21:56:21.9697 EDT gradient_boosted_trees.cc:1843] \"selective_gradient_boosting_ratio\" set but \"sampling_method\" not equal to \"SELGB\".\n"
     ]
    },
    {
     "name": "stdout",
     "output_type": "stream",
     "text": [
      "i:50\n"
     ]
    },
    {
     "name": "stderr",
     "output_type": "stream",
     "text": [
      "[INFO 23-07-13 21:56:22.2709 EDT kernel.cc:1243] Loading model from path /var/folders/wp/s6hl_fl57tnf8_1_ndx9w4hw0000gn/T/tmphj7rkbu6/model/ with prefix 1b69ca33cba04457\n",
      "[INFO 23-07-13 21:56:22.2755 EDT kernel.cc:1075] Use fast generic engine\n",
      "[WARNING 23-07-13 21:56:22.4512 EDT gradient_boosted_trees.cc:1818] \"goss_alpha\" set but \"sampling_method\" not equal to \"GOSS\".\n",
      "[WARNING 23-07-13 21:56:22.4513 EDT gradient_boosted_trees.cc:1829] \"goss_beta\" set but \"sampling_method\" not equal to \"GOSS\".\n",
      "[WARNING 23-07-13 21:56:22.4513 EDT gradient_boosted_trees.cc:1843] \"selective_gradient_boosting_ratio\" set but \"sampling_method\" not equal to \"SELGB\".\n"
     ]
    },
    {
     "name": "stdout",
     "output_type": "stream",
     "text": [
      "i:51\n"
     ]
    },
    {
     "name": "stderr",
     "output_type": "stream",
     "text": [
      "[INFO 23-07-13 21:56:22.7656 EDT kernel.cc:1243] Loading model from path /var/folders/wp/s6hl_fl57tnf8_1_ndx9w4hw0000gn/T/tmpdq7gzu5k/model/ with prefix 9d95cce6aeff4aed\n",
      "[INFO 23-07-13 21:56:22.7707 EDT kernel.cc:1075] Use fast generic engine\n",
      "[WARNING 23-07-13 21:56:22.9440 EDT gradient_boosted_trees.cc:1818] \"goss_alpha\" set but \"sampling_method\" not equal to \"GOSS\".\n",
      "[WARNING 23-07-13 21:56:22.9440 EDT gradient_boosted_trees.cc:1829] \"goss_beta\" set but \"sampling_method\" not equal to \"GOSS\".\n",
      "[WARNING 23-07-13 21:56:22.9440 EDT gradient_boosted_trees.cc:1843] \"selective_gradient_boosting_ratio\" set but \"sampling_method\" not equal to \"SELGB\".\n"
     ]
    },
    {
     "name": "stdout",
     "output_type": "stream",
     "text": [
      "i:52\n"
     ]
    },
    {
     "name": "stderr",
     "output_type": "stream",
     "text": [
      "[INFO 23-07-13 21:56:23.1901 EDT kernel.cc:1243] Loading model from path /var/folders/wp/s6hl_fl57tnf8_1_ndx9w4hw0000gn/T/tmpoq9k7qbi/model/ with prefix e029bb26bd9b4d32\n",
      "[INFO 23-07-13 21:56:23.1929 EDT kernel.cc:1075] Use fast generic engine\n",
      "[WARNING 23-07-13 21:56:23.3646 EDT gradient_boosted_trees.cc:1818] \"goss_alpha\" set but \"sampling_method\" not equal to \"GOSS\".\n",
      "[WARNING 23-07-13 21:56:23.3646 EDT gradient_boosted_trees.cc:1829] \"goss_beta\" set but \"sampling_method\" not equal to \"GOSS\".\n",
      "[WARNING 23-07-13 21:56:23.3646 EDT gradient_boosted_trees.cc:1843] \"selective_gradient_boosting_ratio\" set but \"sampling_method\" not equal to \"SELGB\".\n"
     ]
    },
    {
     "name": "stdout",
     "output_type": "stream",
     "text": [
      "i:53\n"
     ]
    },
    {
     "name": "stderr",
     "output_type": "stream",
     "text": [
      "[INFO 23-07-13 21:56:23.6028 EDT kernel.cc:1243] Loading model from path /var/folders/wp/s6hl_fl57tnf8_1_ndx9w4hw0000gn/T/tmpat31dcg9/model/ with prefix 23dd8a1e8674410d\n",
      "[INFO 23-07-13 21:56:23.6053 EDT kernel.cc:1075] Use fast generic engine\n",
      "[WARNING 23-07-13 21:56:23.7773 EDT gradient_boosted_trees.cc:1818] \"goss_alpha\" set but \"sampling_method\" not equal to \"GOSS\".\n",
      "[WARNING 23-07-13 21:56:23.7773 EDT gradient_boosted_trees.cc:1829] \"goss_beta\" set but \"sampling_method\" not equal to \"GOSS\".\n",
      "[WARNING 23-07-13 21:56:23.7774 EDT gradient_boosted_trees.cc:1843] \"selective_gradient_boosting_ratio\" set but \"sampling_method\" not equal to \"SELGB\".\n"
     ]
    },
    {
     "name": "stdout",
     "output_type": "stream",
     "text": [
      "i:54\n"
     ]
    },
    {
     "name": "stderr",
     "output_type": "stream",
     "text": [
      "[INFO 23-07-13 21:56:24.0215 EDT kernel.cc:1243] Loading model from path /var/folders/wp/s6hl_fl57tnf8_1_ndx9w4hw0000gn/T/tmpb3ey8yiz/model/ with prefix 6dda606da42d40ce\n",
      "[INFO 23-07-13 21:56:24.0243 EDT kernel.cc:1075] Use fast generic engine\n",
      "[WARNING 23-07-13 21:56:24.1967 EDT gradient_boosted_trees.cc:1818] \"goss_alpha\" set but \"sampling_method\" not equal to \"GOSS\".\n",
      "[WARNING 23-07-13 21:56:24.1967 EDT gradient_boosted_trees.cc:1829] \"goss_beta\" set but \"sampling_method\" not equal to \"GOSS\".\n",
      "[WARNING 23-07-13 21:56:24.1967 EDT gradient_boosted_trees.cc:1843] \"selective_gradient_boosting_ratio\" set but \"sampling_method\" not equal to \"SELGB\".\n"
     ]
    },
    {
     "name": "stdout",
     "output_type": "stream",
     "text": [
      "i:55\n"
     ]
    },
    {
     "name": "stderr",
     "output_type": "stream",
     "text": [
      "[INFO 23-07-13 21:56:24.4651 EDT kernel.cc:1243] Loading model from path /var/folders/wp/s6hl_fl57tnf8_1_ndx9w4hw0000gn/T/tmp0pei_5ct/model/ with prefix 32c5ec8fa016443d\n",
      "[INFO 23-07-13 21:56:24.4688 EDT kernel.cc:1075] Use fast generic engine\n",
      "[WARNING 23-07-13 21:56:24.6417 EDT gradient_boosted_trees.cc:1818] \"goss_alpha\" set but \"sampling_method\" not equal to \"GOSS\".\n",
      "[WARNING 23-07-13 21:56:24.6417 EDT gradient_boosted_trees.cc:1829] \"goss_beta\" set but \"sampling_method\" not equal to \"GOSS\".\n",
      "[WARNING 23-07-13 21:56:24.6418 EDT gradient_boosted_trees.cc:1843] \"selective_gradient_boosting_ratio\" set but \"sampling_method\" not equal to \"SELGB\".\n"
     ]
    },
    {
     "name": "stdout",
     "output_type": "stream",
     "text": [
      "i:56\n"
     ]
    },
    {
     "name": "stderr",
     "output_type": "stream",
     "text": [
      "[INFO 23-07-13 21:56:24.8837 EDT kernel.cc:1243] Loading model from path /var/folders/wp/s6hl_fl57tnf8_1_ndx9w4hw0000gn/T/tmp1ryo2dsf/model/ with prefix d3f167393c9d4838\n",
      "[INFO 23-07-13 21:56:24.8862 EDT kernel.cc:1075] Use fast generic engine\n",
      "[WARNING 23-07-13 21:56:25.0579 EDT gradient_boosted_trees.cc:1818] \"goss_alpha\" set but \"sampling_method\" not equal to \"GOSS\".\n",
      "[WARNING 23-07-13 21:56:25.0579 EDT gradient_boosted_trees.cc:1829] \"goss_beta\" set but \"sampling_method\" not equal to \"GOSS\".\n",
      "[WARNING 23-07-13 21:56:25.0579 EDT gradient_boosted_trees.cc:1843] \"selective_gradient_boosting_ratio\" set but \"sampling_method\" not equal to \"SELGB\".\n"
     ]
    },
    {
     "name": "stdout",
     "output_type": "stream",
     "text": [
      "i:57\n"
     ]
    },
    {
     "name": "stderr",
     "output_type": "stream",
     "text": [
      "[INFO 23-07-13 21:56:25.2676 EDT kernel.cc:1243] Loading model from path /var/folders/wp/s6hl_fl57tnf8_1_ndx9w4hw0000gn/T/tmp7p8amvl_/model/ with prefix 1219be45b629404f\n",
      "[INFO 23-07-13 21:56:25.2692 EDT kernel.cc:1075] Use fast generic engine\n",
      "[WARNING 23-07-13 21:56:25.4419 EDT gradient_boosted_trees.cc:1818] \"goss_alpha\" set but \"sampling_method\" not equal to \"GOSS\".\n",
      "[WARNING 23-07-13 21:56:25.4419 EDT gradient_boosted_trees.cc:1829] \"goss_beta\" set but \"sampling_method\" not equal to \"GOSS\".\n",
      "[WARNING 23-07-13 21:56:25.4419 EDT gradient_boosted_trees.cc:1843] \"selective_gradient_boosting_ratio\" set but \"sampling_method\" not equal to \"SELGB\".\n"
     ]
    },
    {
     "name": "stdout",
     "output_type": "stream",
     "text": [
      "i:58\n"
     ]
    },
    {
     "name": "stderr",
     "output_type": "stream",
     "text": [
      "[INFO 23-07-13 21:56:25.7761 EDT kernel.cc:1243] Loading model from path /var/folders/wp/s6hl_fl57tnf8_1_ndx9w4hw0000gn/T/tmpvbvjr_ew/model/ with prefix 49e8b6f2b70b4003\n",
      "[INFO 23-07-13 21:56:25.7818 EDT kernel.cc:1075] Use fast generic engine\n",
      "[WARNING 23-07-13 21:56:25.9553 EDT gradient_boosted_trees.cc:1818] \"goss_alpha\" set but \"sampling_method\" not equal to \"GOSS\".\n",
      "[WARNING 23-07-13 21:56:25.9553 EDT gradient_boosted_trees.cc:1829] \"goss_beta\" set but \"sampling_method\" not equal to \"GOSS\".\n",
      "[WARNING 23-07-13 21:56:25.9553 EDT gradient_boosted_trees.cc:1843] \"selective_gradient_boosting_ratio\" set but \"sampling_method\" not equal to \"SELGB\".\n"
     ]
    },
    {
     "name": "stdout",
     "output_type": "stream",
     "text": [
      "i:59\n"
     ]
    },
    {
     "name": "stderr",
     "output_type": "stream",
     "text": [
      "[INFO 23-07-13 21:56:26.2778 EDT kernel.cc:1243] Loading model from path /var/folders/wp/s6hl_fl57tnf8_1_ndx9w4hw0000gn/T/tmpu5l2staj/model/ with prefix 5fc5c13985514b79\n",
      "[INFO 23-07-13 21:56:26.2828 EDT kernel.cc:1075] Use fast generic engine\n",
      "[WARNING 23-07-13 21:56:26.4540 EDT gradient_boosted_trees.cc:1818] \"goss_alpha\" set but \"sampling_method\" not equal to \"GOSS\".\n",
      "[WARNING 23-07-13 21:56:26.4540 EDT gradient_boosted_trees.cc:1829] \"goss_beta\" set but \"sampling_method\" not equal to \"GOSS\".\n",
      "[WARNING 23-07-13 21:56:26.4540 EDT gradient_boosted_trees.cc:1843] \"selective_gradient_boosting_ratio\" set but \"sampling_method\" not equal to \"SELGB\".\n"
     ]
    },
    {
     "name": "stdout",
     "output_type": "stream",
     "text": [
      "i:60\n"
     ]
    },
    {
     "name": "stderr",
     "output_type": "stream",
     "text": [
      "[INFO 23-07-13 21:56:26.6684 EDT kernel.cc:1243] Loading model from path /var/folders/wp/s6hl_fl57tnf8_1_ndx9w4hw0000gn/T/tmpnd068sq0/model/ with prefix 03068237d245470a\n",
      "[INFO 23-07-13 21:56:26.6700 EDT kernel.cc:1075] Use fast generic engine\n",
      "[WARNING 23-07-13 21:56:26.8459 EDT gradient_boosted_trees.cc:1818] \"goss_alpha\" set but \"sampling_method\" not equal to \"GOSS\".\n",
      "[WARNING 23-07-13 21:56:26.8459 EDT gradient_boosted_trees.cc:1829] \"goss_beta\" set but \"sampling_method\" not equal to \"GOSS\".\n",
      "[WARNING 23-07-13 21:56:26.8459 EDT gradient_boosted_trees.cc:1843] \"selective_gradient_boosting_ratio\" set but \"sampling_method\" not equal to \"SELGB\".\n"
     ]
    },
    {
     "name": "stdout",
     "output_type": "stream",
     "text": [
      "i:61\n"
     ]
    },
    {
     "name": "stderr",
     "output_type": "stream",
     "text": [
      "[INFO 23-07-13 21:56:27.0853 EDT kernel.cc:1243] Loading model from path /var/folders/wp/s6hl_fl57tnf8_1_ndx9w4hw0000gn/T/tmpldip8m_h/model/ with prefix aadd7cb8ab764125\n",
      "[INFO 23-07-13 21:56:27.0879 EDT kernel.cc:1075] Use fast generic engine\n",
      "[WARNING 23-07-13 21:56:27.2599 EDT gradient_boosted_trees.cc:1818] \"goss_alpha\" set but \"sampling_method\" not equal to \"GOSS\".\n",
      "[WARNING 23-07-13 21:56:27.2599 EDT gradient_boosted_trees.cc:1829] \"goss_beta\" set but \"sampling_method\" not equal to \"GOSS\".\n",
      "[WARNING 23-07-13 21:56:27.2599 EDT gradient_boosted_trees.cc:1843] \"selective_gradient_boosting_ratio\" set but \"sampling_method\" not equal to \"SELGB\".\n"
     ]
    },
    {
     "name": "stdout",
     "output_type": "stream",
     "text": [
      "i:62\n"
     ]
    },
    {
     "name": "stderr",
     "output_type": "stream",
     "text": [
      "[INFO 23-07-13 21:56:27.5395 EDT kernel.cc:1243] Loading model from path /var/folders/wp/s6hl_fl57tnf8_1_ndx9w4hw0000gn/T/tmpoipaakju/model/ with prefix 34910b83ce7543bc\n",
      "[INFO 23-07-13 21:56:27.5431 EDT kernel.cc:1075] Use fast generic engine\n",
      "[WARNING 23-07-13 21:56:27.7373 EDT gradient_boosted_trees.cc:1818] \"goss_alpha\" set but \"sampling_method\" not equal to \"GOSS\".\n",
      "[WARNING 23-07-13 21:56:27.7374 EDT gradient_boosted_trees.cc:1829] \"goss_beta\" set but \"sampling_method\" not equal to \"GOSS\".\n",
      "[WARNING 23-07-13 21:56:27.7374 EDT gradient_boosted_trees.cc:1843] \"selective_gradient_boosting_ratio\" set but \"sampling_method\" not equal to \"SELGB\".\n"
     ]
    },
    {
     "name": "stdout",
     "output_type": "stream",
     "text": [
      "i:63\n"
     ]
    },
    {
     "name": "stderr",
     "output_type": "stream",
     "text": [
      "[INFO 23-07-13 21:56:27.9629 EDT kernel.cc:1243] Loading model from path /var/folders/wp/s6hl_fl57tnf8_1_ndx9w4hw0000gn/T/tmple3mpgdm/model/ with prefix a80485121dd44d0b\n",
      "[INFO 23-07-13 21:56:27.9646 EDT kernel.cc:1075] Use fast generic engine\n",
      "[WARNING 23-07-13 21:56:28.1517 EDT gradient_boosted_trees.cc:1818] \"goss_alpha\" set but \"sampling_method\" not equal to \"GOSS\".\n",
      "[WARNING 23-07-13 21:56:28.1517 EDT gradient_boosted_trees.cc:1829] \"goss_beta\" set but \"sampling_method\" not equal to \"GOSS\".\n",
      "[WARNING 23-07-13 21:56:28.1517 EDT gradient_boosted_trees.cc:1843] \"selective_gradient_boosting_ratio\" set but \"sampling_method\" not equal to \"SELGB\".\n"
     ]
    },
    {
     "name": "stdout",
     "output_type": "stream",
     "text": [
      "i:64\n"
     ]
    },
    {
     "name": "stderr",
     "output_type": "stream",
     "text": [
      "[INFO 23-07-13 21:56:28.4062 EDT kernel.cc:1243] Loading model from path /var/folders/wp/s6hl_fl57tnf8_1_ndx9w4hw0000gn/T/tmpwwk23eg5/model/ with prefix 157c6e8b7cbf4687\n",
      "[INFO 23-07-13 21:56:28.4097 EDT kernel.cc:1075] Use fast generic engine\n"
     ]
    },
    {
     "name": "stdout",
     "output_type": "stream",
     "text": [
      "i:65\n"
     ]
    },
    {
     "name": "stderr",
     "output_type": "stream",
     "text": [
      "[WARNING 23-07-13 21:56:28.6637 EDT gradient_boosted_trees.cc:1818] \"goss_alpha\" set but \"sampling_method\" not equal to \"GOSS\".\n",
      "[WARNING 23-07-13 21:56:28.6638 EDT gradient_boosted_trees.cc:1829] \"goss_beta\" set but \"sampling_method\" not equal to \"GOSS\".\n",
      "[WARNING 23-07-13 21:56:28.6638 EDT gradient_boosted_trees.cc:1843] \"selective_gradient_boosting_ratio\" set but \"sampling_method\" not equal to \"SELGB\".\n",
      "[INFO 23-07-13 21:56:28.9731 EDT kernel.cc:1243] Loading model from path /var/folders/wp/s6hl_fl57tnf8_1_ndx9w4hw0000gn/T/tmp15ls1ti0/model/ with prefix 5f09b181584542de\n",
      "[INFO 23-07-13 21:56:28.9768 EDT kernel.cc:1075] Use fast generic engine\n",
      "[WARNING 23-07-13 21:56:29.1535 EDT gradient_boosted_trees.cc:1818] \"goss_alpha\" set but \"sampling_method\" not equal to \"GOSS\".\n",
      "[WARNING 23-07-13 21:56:29.1535 EDT gradient_boosted_trees.cc:1829] \"goss_beta\" set but \"sampling_method\" not equal to \"GOSS\".\n",
      "[WARNING 23-07-13 21:56:29.1535 EDT gradient_boosted_trees.cc:1843] \"selective_gradient_boosting_ratio\" set but \"sampling_method\" not equal to \"SELGB\".\n"
     ]
    },
    {
     "name": "stdout",
     "output_type": "stream",
     "text": [
      "i:66\n"
     ]
    },
    {
     "name": "stderr",
     "output_type": "stream",
     "text": [
      "[INFO 23-07-13 21:56:29.3754 EDT kernel.cc:1243] Loading model from path /var/folders/wp/s6hl_fl57tnf8_1_ndx9w4hw0000gn/T/tmpayjlsy00/model/ with prefix b3365e6ac6984f6e\n",
      "[INFO 23-07-13 21:56:29.3774 EDT kernel.cc:1075] Use fast generic engine\n",
      "[WARNING 23-07-13 21:56:29.5473 EDT gradient_boosted_trees.cc:1818] \"goss_alpha\" set but \"sampling_method\" not equal to \"GOSS\".\n",
      "[WARNING 23-07-13 21:56:29.5474 EDT gradient_boosted_trees.cc:1829] \"goss_beta\" set but \"sampling_method\" not equal to \"GOSS\".\n",
      "[WARNING 23-07-13 21:56:29.5474 EDT gradient_boosted_trees.cc:1843] \"selective_gradient_boosting_ratio\" set but \"sampling_method\" not equal to \"SELGB\".\n"
     ]
    },
    {
     "name": "stdout",
     "output_type": "stream",
     "text": [
      "i:67\n"
     ]
    },
    {
     "name": "stderr",
     "output_type": "stream",
     "text": [
      "[INFO 23-07-13 21:56:29.8028 EDT kernel.cc:1243] Loading model from path /var/folders/wp/s6hl_fl57tnf8_1_ndx9w4hw0000gn/T/tmpnjckk0qf/model/ with prefix df3fa4d5026743e5\n",
      "[INFO 23-07-13 21:56:29.8058 EDT kernel.cc:1075] Use fast generic engine\n",
      "[WARNING 23-07-13 21:56:29.9951 EDT gradient_boosted_trees.cc:1818] \"goss_alpha\" set but \"sampling_method\" not equal to \"GOSS\".\n",
      "[WARNING 23-07-13 21:56:29.9951 EDT gradient_boosted_trees.cc:1829] \"goss_beta\" set but \"sampling_method\" not equal to \"GOSS\".\n",
      "[WARNING 23-07-13 21:56:29.9951 EDT gradient_boosted_trees.cc:1843] \"selective_gradient_boosting_ratio\" set but \"sampling_method\" not equal to \"SELGB\".\n"
     ]
    },
    {
     "name": "stdout",
     "output_type": "stream",
     "text": [
      "i:68\n"
     ]
    },
    {
     "name": "stderr",
     "output_type": "stream",
     "text": [
      "[INFO 23-07-13 21:56:30.3475 EDT kernel.cc:1243] Loading model from path /var/folders/wp/s6hl_fl57tnf8_1_ndx9w4hw0000gn/T/tmpned3m_fl/model/ with prefix 0ca5dfd3f1184d90\n",
      "[INFO 23-07-13 21:56:30.3535 EDT abstract_model.cc:1312] Engine \"GradientBoostedTreesQuickScorerExtended\" built\n",
      "[INFO 23-07-13 21:56:30.3535 EDT kernel.cc:1075] Use fast generic engine\n",
      "[WARNING 23-07-13 21:56:30.5258 EDT gradient_boosted_trees.cc:1818] \"goss_alpha\" set but \"sampling_method\" not equal to \"GOSS\".\n",
      "[WARNING 23-07-13 21:56:30.5258 EDT gradient_boosted_trees.cc:1829] \"goss_beta\" set but \"sampling_method\" not equal to \"GOSS\".\n",
      "[WARNING 23-07-13 21:56:30.5259 EDT gradient_boosted_trees.cc:1843] \"selective_gradient_boosting_ratio\" set but \"sampling_method\" not equal to \"SELGB\".\n"
     ]
    },
    {
     "name": "stdout",
     "output_type": "stream",
     "text": [
      "i:69\n"
     ]
    },
    {
     "name": "stderr",
     "output_type": "stream",
     "text": [
      "[INFO 23-07-13 21:56:30.8027 EDT kernel.cc:1243] Loading model from path /var/folders/wp/s6hl_fl57tnf8_1_ndx9w4hw0000gn/T/tmpc2smpw9u/model/ with prefix 0359f4727f064f4e\n",
      "[INFO 23-07-13 21:56:30.8066 EDT kernel.cc:1075] Use fast generic engine\n",
      "[WARNING 23-07-13 21:56:30.9786 EDT gradient_boosted_trees.cc:1818] \"goss_alpha\" set but \"sampling_method\" not equal to \"GOSS\".\n",
      "[WARNING 23-07-13 21:56:30.9786 EDT gradient_boosted_trees.cc:1829] \"goss_beta\" set but \"sampling_method\" not equal to \"GOSS\".\n",
      "[WARNING 23-07-13 21:56:30.9786 EDT gradient_boosted_trees.cc:1843] \"selective_gradient_boosting_ratio\" set but \"sampling_method\" not equal to \"SELGB\".\n"
     ]
    },
    {
     "name": "stdout",
     "output_type": "stream",
     "text": [
      "i:70\n"
     ]
    },
    {
     "name": "stderr",
     "output_type": "stream",
     "text": [
      "[INFO 23-07-13 21:56:31.2072 EDT kernel.cc:1243] Loading model from path /var/folders/wp/s6hl_fl57tnf8_1_ndx9w4hw0000gn/T/tmpu7ryi3kf/model/ with prefix e0f3c79221594c90\n",
      "[INFO 23-07-13 21:56:31.2095 EDT kernel.cc:1075] Use fast generic engine\n",
      "[WARNING 23-07-13 21:56:31.3792 EDT gradient_boosted_trees.cc:1818] \"goss_alpha\" set but \"sampling_method\" not equal to \"GOSS\".\n",
      "[WARNING 23-07-13 21:56:31.3792 EDT gradient_boosted_trees.cc:1829] \"goss_beta\" set but \"sampling_method\" not equal to \"GOSS\".\n",
      "[WARNING 23-07-13 21:56:31.3792 EDT gradient_boosted_trees.cc:1843] \"selective_gradient_boosting_ratio\" set but \"sampling_method\" not equal to \"SELGB\".\n"
     ]
    },
    {
     "name": "stdout",
     "output_type": "stream",
     "text": [
      "i:71\n"
     ]
    },
    {
     "name": "stderr",
     "output_type": "stream",
     "text": [
      "[INFO 23-07-13 21:56:31.5963 EDT kernel.cc:1243] Loading model from path /var/folders/wp/s6hl_fl57tnf8_1_ndx9w4hw0000gn/T/tmp__edyt5o/model/ with prefix ee7f70c55e91482c\n",
      "[INFO 23-07-13 21:56:31.5980 EDT kernel.cc:1075] Use fast generic engine\n",
      "[WARNING 23-07-13 21:56:31.7665 EDT gradient_boosted_trees.cc:1818] \"goss_alpha\" set but \"sampling_method\" not equal to \"GOSS\".\n",
      "[WARNING 23-07-13 21:56:31.7665 EDT gradient_boosted_trees.cc:1829] \"goss_beta\" set but \"sampling_method\" not equal to \"GOSS\".\n",
      "[WARNING 23-07-13 21:56:31.7665 EDT gradient_boosted_trees.cc:1843] \"selective_gradient_boosting_ratio\" set but \"sampling_method\" not equal to \"SELGB\".\n"
     ]
    },
    {
     "name": "stdout",
     "output_type": "stream",
     "text": [
      "i:72\n"
     ]
    },
    {
     "name": "stderr",
     "output_type": "stream",
     "text": [
      "[INFO 23-07-13 21:56:32.0134 EDT kernel.cc:1243] Loading model from path /var/folders/wp/s6hl_fl57tnf8_1_ndx9w4hw0000gn/T/tmpdx2gxx7r/model/ with prefix 2c2c5f672a3e4675\n",
      "[INFO 23-07-13 21:56:32.0162 EDT kernel.cc:1075] Use fast generic engine\n"
     ]
    },
    {
     "name": "stdout",
     "output_type": "stream",
     "text": [
      "i:73\n"
     ]
    },
    {
     "name": "stderr",
     "output_type": "stream",
     "text": [
      "[WARNING 23-07-13 21:56:32.6702 EDT gradient_boosted_trees.cc:1818] \"goss_alpha\" set but \"sampling_method\" not equal to \"GOSS\".\n",
      "[WARNING 23-07-13 21:56:32.6702 EDT gradient_boosted_trees.cc:1829] \"goss_beta\" set but \"sampling_method\" not equal to \"GOSS\".\n",
      "[WARNING 23-07-13 21:56:32.6702 EDT gradient_boosted_trees.cc:1843] \"selective_gradient_boosting_ratio\" set but \"sampling_method\" not equal to \"SELGB\".\n",
      "[INFO 23-07-13 21:56:32.8798 EDT kernel.cc:1243] Loading model from path /var/folders/wp/s6hl_fl57tnf8_1_ndx9w4hw0000gn/T/tmpbxh1yz1b/model/ with prefix 93ecd8cf2c474f0c\n",
      "[INFO 23-07-13 21:56:32.8813 EDT kernel.cc:1075] Use fast generic engine\n",
      "[WARNING 23-07-13 21:56:33.0555 EDT gradient_boosted_trees.cc:1818] \"goss_alpha\" set but \"sampling_method\" not equal to \"GOSS\".\n",
      "[WARNING 23-07-13 21:56:33.0555 EDT gradient_boosted_trees.cc:1829] \"goss_beta\" set but \"sampling_method\" not equal to \"GOSS\".\n",
      "[WARNING 23-07-13 21:56:33.0555 EDT gradient_boosted_trees.cc:1843] \"selective_gradient_boosting_ratio\" set but \"sampling_method\" not equal to \"SELGB\".\n"
     ]
    },
    {
     "name": "stdout",
     "output_type": "stream",
     "text": [
      "i:74\n"
     ]
    },
    {
     "name": "stderr",
     "output_type": "stream",
     "text": [
      "[INFO 23-07-13 21:56:33.4434 EDT kernel.cc:1243] Loading model from path /var/folders/wp/s6hl_fl57tnf8_1_ndx9w4hw0000gn/T/tmp3rmvtt8s/model/ with prefix 468de4197afe4fee\n",
      "[INFO 23-07-13 21:56:33.4510 EDT kernel.cc:1075] Use fast generic engine\n",
      "[WARNING 23-07-13 21:56:33.6270 EDT gradient_boosted_trees.cc:1818] \"goss_alpha\" set but \"sampling_method\" not equal to \"GOSS\".\n",
      "[WARNING 23-07-13 21:56:33.6270 EDT gradient_boosted_trees.cc:1829] \"goss_beta\" set but \"sampling_method\" not equal to \"GOSS\".\n",
      "[WARNING 23-07-13 21:56:33.6270 EDT gradient_boosted_trees.cc:1843] \"selective_gradient_boosting_ratio\" set but \"sampling_method\" not equal to \"SELGB\".\n"
     ]
    },
    {
     "name": "stdout",
     "output_type": "stream",
     "text": [
      "i:75\n"
     ]
    },
    {
     "name": "stderr",
     "output_type": "stream",
     "text": [
      "[INFO 23-07-13 21:56:34.1291 EDT kernel.cc:1243] Loading model from path /var/folders/wp/s6hl_fl57tnf8_1_ndx9w4hw0000gn/T/tmpqzdypgpx/model/ with prefix a01310e163304a99\n",
      "[INFO 23-07-13 21:56:34.1403 EDT kernel.cc:1075] Use fast generic engine\n"
     ]
    },
    {
     "name": "stdout",
     "output_type": "stream",
     "text": [
      "i:76\n"
     ]
    },
    {
     "name": "stderr",
     "output_type": "stream",
     "text": [
      "[WARNING 23-07-13 21:56:34.3377 EDT gradient_boosted_trees.cc:1818] \"goss_alpha\" set but \"sampling_method\" not equal to \"GOSS\".\n",
      "[WARNING 23-07-13 21:56:34.3377 EDT gradient_boosted_trees.cc:1829] \"goss_beta\" set but \"sampling_method\" not equal to \"GOSS\".\n",
      "[WARNING 23-07-13 21:56:34.3377 EDT gradient_boosted_trees.cc:1843] \"selective_gradient_boosting_ratio\" set but \"sampling_method\" not equal to \"SELGB\".\n",
      "[INFO 23-07-13 21:56:34.6046 EDT kernel.cc:1243] Loading model from path /var/folders/wp/s6hl_fl57tnf8_1_ndx9w4hw0000gn/T/tmp3h1w6h9c/model/ with prefix 7070033852cc4265\n",
      "[INFO 23-07-13 21:56:34.6066 EDT kernel.cc:1075] Use fast generic engine\n",
      "[WARNING 23-07-13 21:56:34.7885 EDT gradient_boosted_trees.cc:1818] \"goss_alpha\" set but \"sampling_method\" not equal to \"GOSS\".\n",
      "[WARNING 23-07-13 21:56:34.7885 EDT gradient_boosted_trees.cc:1829] \"goss_beta\" set but \"sampling_method\" not equal to \"GOSS\".\n",
      "[WARNING 23-07-13 21:56:34.7885 EDT gradient_boosted_trees.cc:1843] \"selective_gradient_boosting_ratio\" set but \"sampling_method\" not equal to \"SELGB\".\n"
     ]
    },
    {
     "name": "stdout",
     "output_type": "stream",
     "text": [
      "i:77\n"
     ]
    },
    {
     "name": "stderr",
     "output_type": "stream",
     "text": [
      "[INFO 23-07-13 21:56:35.0437 EDT kernel.cc:1243] Loading model from path /var/folders/wp/s6hl_fl57tnf8_1_ndx9w4hw0000gn/T/tmpqpx2lg3l/model/ with prefix 0593c40ece4b493b\n",
      "[INFO 23-07-13 21:56:35.0467 EDT kernel.cc:1075] Use fast generic engine\n",
      "[WARNING 23-07-13 21:56:35.2193 EDT gradient_boosted_trees.cc:1818] \"goss_alpha\" set but \"sampling_method\" not equal to \"GOSS\".\n",
      "[WARNING 23-07-13 21:56:35.2193 EDT gradient_boosted_trees.cc:1829] \"goss_beta\" set but \"sampling_method\" not equal to \"GOSS\".\n",
      "[WARNING 23-07-13 21:56:35.2193 EDT gradient_boosted_trees.cc:1843] \"selective_gradient_boosting_ratio\" set but \"sampling_method\" not equal to \"SELGB\".\n"
     ]
    },
    {
     "name": "stdout",
     "output_type": "stream",
     "text": [
      "i:78\n"
     ]
    },
    {
     "name": "stderr",
     "output_type": "stream",
     "text": [
      "[INFO 23-07-13 21:56:35.4290 EDT kernel.cc:1243] Loading model from path /var/folders/wp/s6hl_fl57tnf8_1_ndx9w4hw0000gn/T/tmpm91uhpz3/model/ with prefix c77ea2d0207f418a\n",
      "[INFO 23-07-13 21:56:35.4304 EDT kernel.cc:1075] Use fast generic engine\n",
      "[WARNING 23-07-13 21:56:35.6007 EDT gradient_boosted_trees.cc:1818] \"goss_alpha\" set but \"sampling_method\" not equal to \"GOSS\".\n",
      "[WARNING 23-07-13 21:56:35.6008 EDT gradient_boosted_trees.cc:1829] \"goss_beta\" set but \"sampling_method\" not equal to \"GOSS\".\n",
      "[WARNING 23-07-13 21:56:35.6008 EDT gradient_boosted_trees.cc:1843] \"selective_gradient_boosting_ratio\" set but \"sampling_method\" not equal to \"SELGB\".\n"
     ]
    },
    {
     "name": "stdout",
     "output_type": "stream",
     "text": [
      "i:79\n"
     ]
    },
    {
     "name": "stderr",
     "output_type": "stream",
     "text": [
      "[INFO 23-07-13 21:56:35.8794 EDT kernel.cc:1243] Loading model from path /var/folders/wp/s6hl_fl57tnf8_1_ndx9w4hw0000gn/T/tmpgib13yuh/model/ with prefix 7f773cc8af4647b2\n",
      "[INFO 23-07-13 21:56:35.8832 EDT kernel.cc:1075] Use fast generic engine\n",
      "[WARNING 23-07-13 21:56:36.0702 EDT gradient_boosted_trees.cc:1818] \"goss_alpha\" set but \"sampling_method\" not equal to \"GOSS\".\n",
      "[WARNING 23-07-13 21:56:36.0702 EDT gradient_boosted_trees.cc:1829] \"goss_beta\" set but \"sampling_method\" not equal to \"GOSS\".\n",
      "[WARNING 23-07-13 21:56:36.0702 EDT gradient_boosted_trees.cc:1843] \"selective_gradient_boosting_ratio\" set but \"sampling_method\" not equal to \"SELGB\".\n"
     ]
    },
    {
     "name": "stdout",
     "output_type": "stream",
     "text": [
      "i:80\n"
     ]
    },
    {
     "name": "stderr",
     "output_type": "stream",
     "text": [
      "[INFO 23-07-13 21:56:36.3080 EDT kernel.cc:1243] Loading model from path /var/folders/wp/s6hl_fl57tnf8_1_ndx9w4hw0000gn/T/tmpk5ea_xnv/model/ with prefix eee0b728c6ce4a69\n",
      "[INFO 23-07-13 21:56:36.3102 EDT kernel.cc:1075] Use fast generic engine\n",
      "[WARNING 23-07-13 21:56:36.4891 EDT gradient_boosted_trees.cc:1818] \"goss_alpha\" set but \"sampling_method\" not equal to \"GOSS\".\n",
      "[WARNING 23-07-13 21:56:36.4892 EDT gradient_boosted_trees.cc:1829] \"goss_beta\" set but \"sampling_method\" not equal to \"GOSS\".\n",
      "[WARNING 23-07-13 21:56:36.4892 EDT gradient_boosted_trees.cc:1843] \"selective_gradient_boosting_ratio\" set but \"sampling_method\" not equal to \"SELGB\".\n"
     ]
    },
    {
     "name": "stdout",
     "output_type": "stream",
     "text": [
      "i:81\n"
     ]
    },
    {
     "name": "stderr",
     "output_type": "stream",
     "text": [
      "[INFO 23-07-13 21:56:36.7544 EDT kernel.cc:1243] Loading model from path /var/folders/wp/s6hl_fl57tnf8_1_ndx9w4hw0000gn/T/tmpctt_e59f/model/ with prefix cfc5d88d711d41bf\n",
      "[INFO 23-07-13 21:56:36.7578 EDT kernel.cc:1075] Use fast generic engine\n",
      "[WARNING 23-07-13 21:56:36.9353 EDT gradient_boosted_trees.cc:1818] \"goss_alpha\" set but \"sampling_method\" not equal to \"GOSS\".\n",
      "[WARNING 23-07-13 21:56:36.9353 EDT gradient_boosted_trees.cc:1829] \"goss_beta\" set but \"sampling_method\" not equal to \"GOSS\".\n",
      "[WARNING 23-07-13 21:56:36.9353 EDT gradient_boosted_trees.cc:1843] \"selective_gradient_boosting_ratio\" set but \"sampling_method\" not equal to \"SELGB\".\n"
     ]
    },
    {
     "name": "stdout",
     "output_type": "stream",
     "text": [
      "i:82\n"
     ]
    },
    {
     "name": "stderr",
     "output_type": "stream",
     "text": [
      "[INFO 23-07-13 21:56:37.2165 EDT kernel.cc:1243] Loading model from path /var/folders/wp/s6hl_fl57tnf8_1_ndx9w4hw0000gn/T/tmpuas7trn4/model/ with prefix a9f82cb7036b485c\n",
      "[INFO 23-07-13 21:56:37.2210 EDT kernel.cc:1075] Use fast generic engine\n"
     ]
    },
    {
     "name": "stdout",
     "output_type": "stream",
     "text": [
      "i:83\n"
     ]
    },
    {
     "name": "stderr",
     "output_type": "stream",
     "text": [
      "[WARNING 23-07-13 21:56:37.4195 EDT gradient_boosted_trees.cc:1818] \"goss_alpha\" set but \"sampling_method\" not equal to \"GOSS\".\n",
      "[WARNING 23-07-13 21:56:37.4195 EDT gradient_boosted_trees.cc:1829] \"goss_beta\" set but \"sampling_method\" not equal to \"GOSS\".\n",
      "[WARNING 23-07-13 21:56:37.4195 EDT gradient_boosted_trees.cc:1843] \"selective_gradient_boosting_ratio\" set but \"sampling_method\" not equal to \"SELGB\".\n",
      "[INFO 23-07-13 21:56:37.7099 EDT kernel.cc:1243] Loading model from path /var/folders/wp/s6hl_fl57tnf8_1_ndx9w4hw0000gn/T/tmp3im99hn6/model/ with prefix a4a43806801e4ae7\n",
      "[INFO 23-07-13 21:56:37.7136 EDT kernel.cc:1075] Use fast generic engine\n",
      "[WARNING 23-07-13 21:56:37.8890 EDT gradient_boosted_trees.cc:1818] \"goss_alpha\" set but \"sampling_method\" not equal to \"GOSS\".\n",
      "[WARNING 23-07-13 21:56:37.8890 EDT gradient_boosted_trees.cc:1829] \"goss_beta\" set but \"sampling_method\" not equal to \"GOSS\".\n",
      "[WARNING 23-07-13 21:56:37.8890 EDT gradient_boosted_trees.cc:1843] \"selective_gradient_boosting_ratio\" set but \"sampling_method\" not equal to \"SELGB\".\n"
     ]
    },
    {
     "name": "stdout",
     "output_type": "stream",
     "text": [
      "i:84\n"
     ]
    },
    {
     "name": "stderr",
     "output_type": "stream",
     "text": [
      "[INFO 23-07-13 21:56:38.1695 EDT kernel.cc:1243] Loading model from path /var/folders/wp/s6hl_fl57tnf8_1_ndx9w4hw0000gn/T/tmpn8z3qts0/model/ with prefix fc8da9c395284a27\n",
      "[INFO 23-07-13 21:56:38.1731 EDT kernel.cc:1075] Use fast generic engine\n",
      "[WARNING 23-07-13 21:56:38.3469 EDT gradient_boosted_trees.cc:1818] \"goss_alpha\" set but \"sampling_method\" not equal to \"GOSS\".\n",
      "[WARNING 23-07-13 21:56:38.3469 EDT gradient_boosted_trees.cc:1829] \"goss_beta\" set but \"sampling_method\" not equal to \"GOSS\".\n",
      "[WARNING 23-07-13 21:56:38.3469 EDT gradient_boosted_trees.cc:1843] \"selective_gradient_boosting_ratio\" set but \"sampling_method\" not equal to \"SELGB\".\n"
     ]
    },
    {
     "name": "stdout",
     "output_type": "stream",
     "text": [
      "i:85\n"
     ]
    },
    {
     "name": "stderr",
     "output_type": "stream",
     "text": [
      "[INFO 23-07-13 21:56:38.6055 EDT kernel.cc:1243] Loading model from path /var/folders/wp/s6hl_fl57tnf8_1_ndx9w4hw0000gn/T/tmph326jim2/model/ with prefix dc7aa8da4690434b\n",
      "[INFO 23-07-13 21:56:38.6085 EDT kernel.cc:1075] Use fast generic engine\n",
      "[WARNING 23-07-13 21:56:38.7846 EDT gradient_boosted_trees.cc:1818] \"goss_alpha\" set but \"sampling_method\" not equal to \"GOSS\".\n",
      "[WARNING 23-07-13 21:56:38.7846 EDT gradient_boosted_trees.cc:1829] \"goss_beta\" set but \"sampling_method\" not equal to \"GOSS\".\n",
      "[WARNING 23-07-13 21:56:38.7846 EDT gradient_boosted_trees.cc:1843] \"selective_gradient_boosting_ratio\" set but \"sampling_method\" not equal to \"SELGB\".\n"
     ]
    },
    {
     "name": "stdout",
     "output_type": "stream",
     "text": [
      "i:86\n"
     ]
    },
    {
     "name": "stderr",
     "output_type": "stream",
     "text": [
      "[INFO 23-07-13 21:56:39.1090 EDT kernel.cc:1243] Loading model from path /var/folders/wp/s6hl_fl57tnf8_1_ndx9w4hw0000gn/T/tmpj__gib0p/model/ with prefix 240551a9f5104295\n",
      "[INFO 23-07-13 21:56:39.1143 EDT kernel.cc:1075] Use fast generic engine\n",
      "[WARNING 23-07-13 21:56:39.2907 EDT gradient_boosted_trees.cc:1818] \"goss_alpha\" set but \"sampling_method\" not equal to \"GOSS\".\n",
      "[WARNING 23-07-13 21:56:39.2908 EDT gradient_boosted_trees.cc:1829] \"goss_beta\" set but \"sampling_method\" not equal to \"GOSS\".\n",
      "[WARNING 23-07-13 21:56:39.2908 EDT gradient_boosted_trees.cc:1843] \"selective_gradient_boosting_ratio\" set but \"sampling_method\" not equal to \"SELGB\".\n"
     ]
    },
    {
     "name": "stdout",
     "output_type": "stream",
     "text": [
      "i:87\n"
     ]
    },
    {
     "name": "stderr",
     "output_type": "stream",
     "text": [
      "[INFO 23-07-13 21:56:39.5350 EDT kernel.cc:1243] Loading model from path /var/folders/wp/s6hl_fl57tnf8_1_ndx9w4hw0000gn/T/tmpg760zt9k/model/ with prefix f62efa1ce03a4f20\n",
      "[INFO 23-07-13 21:56:39.5378 EDT kernel.cc:1075] Use fast generic engine\n",
      "[WARNING 23-07-13 21:56:39.7071 EDT gradient_boosted_trees.cc:1818] \"goss_alpha\" set but \"sampling_method\" not equal to \"GOSS\".\n",
      "[WARNING 23-07-13 21:56:39.7071 EDT gradient_boosted_trees.cc:1829] \"goss_beta\" set but \"sampling_method\" not equal to \"GOSS\".\n",
      "[WARNING 23-07-13 21:56:39.7071 EDT gradient_boosted_trees.cc:1843] \"selective_gradient_boosting_ratio\" set but \"sampling_method\" not equal to \"SELGB\".\n"
     ]
    },
    {
     "name": "stdout",
     "output_type": "stream",
     "text": [
      "i:88\n"
     ]
    },
    {
     "name": "stderr",
     "output_type": "stream",
     "text": [
      "[INFO 23-07-13 21:56:39.9294 EDT kernel.cc:1243] Loading model from path /var/folders/wp/s6hl_fl57tnf8_1_ndx9w4hw0000gn/T/tmpcfyvp5g4/model/ with prefix be8f6585c47844e5\n",
      "[INFO 23-07-13 21:56:39.9310 EDT kernel.cc:1075] Use fast generic engine\n",
      "[WARNING 23-07-13 21:56:40.1107 EDT gradient_boosted_trees.cc:1818] \"goss_alpha\" set but \"sampling_method\" not equal to \"GOSS\".\n",
      "[WARNING 23-07-13 21:56:40.1107 EDT gradient_boosted_trees.cc:1829] \"goss_beta\" set but \"sampling_method\" not equal to \"GOSS\".\n",
      "[WARNING 23-07-13 21:56:40.1107 EDT gradient_boosted_trees.cc:1843] \"selective_gradient_boosting_ratio\" set but \"sampling_method\" not equal to \"SELGB\".\n"
     ]
    },
    {
     "name": "stdout",
     "output_type": "stream",
     "text": [
      "i:89\n"
     ]
    },
    {
     "name": "stderr",
     "output_type": "stream",
     "text": [
      "[INFO 23-07-13 21:56:40.3586 EDT kernel.cc:1243] Loading model from path /var/folders/wp/s6hl_fl57tnf8_1_ndx9w4hw0000gn/T/tmptookvz95/model/ with prefix a1fb233679e64d10\n",
      "[INFO 23-07-13 21:56:40.3614 EDT abstract_model.cc:1312] Engine \"GradientBoostedTreesQuickScorerExtended\" built\n",
      "[INFO 23-07-13 21:56:40.3614 EDT kernel.cc:1075] Use fast generic engine\n",
      "[WARNING 23-07-13 21:56:40.5328 EDT gradient_boosted_trees.cc:1818] \"goss_alpha\" set but \"sampling_method\" not equal to \"GOSS\".\n",
      "[WARNING 23-07-13 21:56:40.5328 EDT gradient_boosted_trees.cc:1829] \"goss_beta\" set but \"sampling_method\" not equal to \"GOSS\".\n",
      "[WARNING 23-07-13 21:56:40.5328 EDT gradient_boosted_trees.cc:1843] \"selective_gradient_boosting_ratio\" set but \"sampling_method\" not equal to \"SELGB\".\n"
     ]
    },
    {
     "name": "stdout",
     "output_type": "stream",
     "text": [
      "i:90\n"
     ]
    },
    {
     "name": "stderr",
     "output_type": "stream",
     "text": [
      "[INFO 23-07-13 21:56:40.7785 EDT kernel.cc:1243] Loading model from path /var/folders/wp/s6hl_fl57tnf8_1_ndx9w4hw0000gn/T/tmpka0oxj1k/model/ with prefix 9ab8a785dcee4148\n",
      "[INFO 23-07-13 21:56:40.7823 EDT kernel.cc:1075] Use fast generic engine\n",
      "[WARNING 23-07-13 21:56:40.9561 EDT gradient_boosted_trees.cc:1818] \"goss_alpha\" set but \"sampling_method\" not equal to \"GOSS\".\n",
      "[WARNING 23-07-13 21:56:40.9561 EDT gradient_boosted_trees.cc:1829] \"goss_beta\" set but \"sampling_method\" not equal to \"GOSS\".\n",
      "[WARNING 23-07-13 21:56:40.9561 EDT gradient_boosted_trees.cc:1843] \"selective_gradient_boosting_ratio\" set but \"sampling_method\" not equal to \"SELGB\".\n"
     ]
    },
    {
     "name": "stdout",
     "output_type": "stream",
     "text": [
      "i:91\n"
     ]
    },
    {
     "name": "stderr",
     "output_type": "stream",
     "text": [
      "[INFO 23-07-13 21:56:41.2416 EDT kernel.cc:1243] Loading model from path /var/folders/wp/s6hl_fl57tnf8_1_ndx9w4hw0000gn/T/tmp0j_i_lj7/model/ with prefix 55d2d9c3a503491c\n",
      "[INFO 23-07-13 21:56:41.2457 EDT kernel.cc:1075] Use fast generic engine\n",
      "[WARNING 23-07-13 21:56:41.4179 EDT gradient_boosted_trees.cc:1818] \"goss_alpha\" set but \"sampling_method\" not equal to \"GOSS\".\n",
      "[WARNING 23-07-13 21:56:41.4179 EDT gradient_boosted_trees.cc:1829] \"goss_beta\" set but \"sampling_method\" not equal to \"GOSS\".\n",
      "[WARNING 23-07-13 21:56:41.4180 EDT gradient_boosted_trees.cc:1843] \"selective_gradient_boosting_ratio\" set but \"sampling_method\" not equal to \"SELGB\".\n"
     ]
    },
    {
     "name": "stdout",
     "output_type": "stream",
     "text": [
      "i:92\n"
     ]
    },
    {
     "name": "stderr",
     "output_type": "stream",
     "text": [
      "[INFO 23-07-13 21:56:41.7950 EDT kernel.cc:1243] Loading model from path /var/folders/wp/s6hl_fl57tnf8_1_ndx9w4hw0000gn/T/tmptpvckfa2/model/ with prefix 13f2a11928de4502\n",
      "[INFO 23-07-13 21:56:41.8019 EDT kernel.cc:1075] Use fast generic engine\n",
      "[WARNING 23-07-13 21:56:41.9785 EDT gradient_boosted_trees.cc:1818] \"goss_alpha\" set but \"sampling_method\" not equal to \"GOSS\".\n",
      "[WARNING 23-07-13 21:56:41.9785 EDT gradient_boosted_trees.cc:1829] \"goss_beta\" set but \"sampling_method\" not equal to \"GOSS\".\n",
      "[WARNING 23-07-13 21:56:41.9785 EDT gradient_boosted_trees.cc:1843] \"selective_gradient_boosting_ratio\" set but \"sampling_method\" not equal to \"SELGB\".\n"
     ]
    },
    {
     "name": "stdout",
     "output_type": "stream",
     "text": [
      "i:93\n"
     ]
    },
    {
     "name": "stderr",
     "output_type": "stream",
     "text": [
      "[INFO 23-07-13 21:56:42.2009 EDT kernel.cc:1243] Loading model from path /var/folders/wp/s6hl_fl57tnf8_1_ndx9w4hw0000gn/T/tmp8ib8_sic/model/ with prefix f795ece4b5b84ce6\n",
      "[INFO 23-07-13 21:56:42.2028 EDT kernel.cc:1075] Use fast generic engine\n",
      "[WARNING 23-07-13 21:56:42.3825 EDT gradient_boosted_trees.cc:1818] \"goss_alpha\" set but \"sampling_method\" not equal to \"GOSS\".\n",
      "[WARNING 23-07-13 21:56:42.3825 EDT gradient_boosted_trees.cc:1829] \"goss_beta\" set but \"sampling_method\" not equal to \"GOSS\".\n",
      "[WARNING 23-07-13 21:56:42.3825 EDT gradient_boosted_trees.cc:1843] \"selective_gradient_boosting_ratio\" set but \"sampling_method\" not equal to \"SELGB\".\n"
     ]
    },
    {
     "name": "stdout",
     "output_type": "stream",
     "text": [
      "i:94\n"
     ]
    },
    {
     "name": "stderr",
     "output_type": "stream",
     "text": [
      "[INFO 23-07-13 21:56:42.6238 EDT kernel.cc:1243] Loading model from path /var/folders/wp/s6hl_fl57tnf8_1_ndx9w4hw0000gn/T/tmp8f1h68px/model/ with prefix 1846822e64ea4a4b\n",
      "[INFO 23-07-13 21:56:42.6263 EDT kernel.cc:1075] Use fast generic engine\n",
      "[WARNING 23-07-13 21:56:42.7995 EDT gradient_boosted_trees.cc:1818] \"goss_alpha\" set but \"sampling_method\" not equal to \"GOSS\".\n",
      "[WARNING 23-07-13 21:56:42.7995 EDT gradient_boosted_trees.cc:1829] \"goss_beta\" set but \"sampling_method\" not equal to \"GOSS\".\n",
      "[WARNING 23-07-13 21:56:42.7995 EDT gradient_boosted_trees.cc:1843] \"selective_gradient_boosting_ratio\" set but \"sampling_method\" not equal to \"SELGB\".\n"
     ]
    },
    {
     "name": "stdout",
     "output_type": "stream",
     "text": [
      "i:95\n"
     ]
    },
    {
     "name": "stderr",
     "output_type": "stream",
     "text": [
      "[INFO 23-07-13 21:56:43.0471 EDT kernel.cc:1243] Loading model from path /var/folders/wp/s6hl_fl57tnf8_1_ndx9w4hw0000gn/T/tmphbkao9u5/model/ with prefix d04becf9f671437c\n",
      "[INFO 23-07-13 21:56:43.0497 EDT kernel.cc:1075] Use fast generic engine\n",
      "[WARNING 23-07-13 21:56:43.2276 EDT gradient_boosted_trees.cc:1818] \"goss_alpha\" set but \"sampling_method\" not equal to \"GOSS\".\n",
      "[WARNING 23-07-13 21:56:43.2276 EDT gradient_boosted_trees.cc:1829] \"goss_beta\" set but \"sampling_method\" not equal to \"GOSS\".\n",
      "[WARNING 23-07-13 21:56:43.2276 EDT gradient_boosted_trees.cc:1843] \"selective_gradient_boosting_ratio\" set but \"sampling_method\" not equal to \"SELGB\".\n"
     ]
    },
    {
     "name": "stdout",
     "output_type": "stream",
     "text": [
      "i:96\n"
     ]
    },
    {
     "name": "stderr",
     "output_type": "stream",
     "text": [
      "[INFO 23-07-13 21:56:43.4821 EDT kernel.cc:1243] Loading model from path /var/folders/wp/s6hl_fl57tnf8_1_ndx9w4hw0000gn/T/tmp1wb50bk6/model/ with prefix c5f33bbaa66048a6\n",
      "[INFO 23-07-13 21:56:43.4850 EDT kernel.cc:1075] Use fast generic engine\n",
      "[WARNING 23-07-13 21:56:43.6596 EDT gradient_boosted_trees.cc:1818] \"goss_alpha\" set but \"sampling_method\" not equal to \"GOSS\".\n",
      "[WARNING 23-07-13 21:56:43.6596 EDT gradient_boosted_trees.cc:1829] \"goss_beta\" set but \"sampling_method\" not equal to \"GOSS\".\n",
      "[WARNING 23-07-13 21:56:43.6596 EDT gradient_boosted_trees.cc:1843] \"selective_gradient_boosting_ratio\" set but \"sampling_method\" not equal to \"SELGB\".\n"
     ]
    },
    {
     "name": "stdout",
     "output_type": "stream",
     "text": [
      "i:97\n"
     ]
    },
    {
     "name": "stderr",
     "output_type": "stream",
     "text": [
      "[INFO 23-07-13 21:56:43.8852 EDT kernel.cc:1243] Loading model from path /var/folders/wp/s6hl_fl57tnf8_1_ndx9w4hw0000gn/T/tmpngfzielk/model/ with prefix 713ecfae7f6243a9\n",
      "[INFO 23-07-13 21:56:43.8871 EDT kernel.cc:1075] Use fast generic engine\n",
      "[WARNING 23-07-13 21:56:44.0659 EDT gradient_boosted_trees.cc:1818] \"goss_alpha\" set but \"sampling_method\" not equal to \"GOSS\".\n",
      "[WARNING 23-07-13 21:56:44.0660 EDT gradient_boosted_trees.cc:1829] \"goss_beta\" set but \"sampling_method\" not equal to \"GOSS\".\n",
      "[WARNING 23-07-13 21:56:44.0660 EDT gradient_boosted_trees.cc:1843] \"selective_gradient_boosting_ratio\" set but \"sampling_method\" not equal to \"SELGB\".\n"
     ]
    },
    {
     "name": "stdout",
     "output_type": "stream",
     "text": [
      "i:98\n"
     ]
    },
    {
     "name": "stderr",
     "output_type": "stream",
     "text": [
      "[INFO 23-07-13 21:56:44.4912 EDT kernel.cc:1243] Loading model from path /var/folders/wp/s6hl_fl57tnf8_1_ndx9w4hw0000gn/T/tmp89gd0dw_/model/ with prefix c671129bfd3d4e43\n",
      "[INFO 23-07-13 21:56:44.4991 EDT kernel.cc:1075] Use fast generic engine\n",
      "[WARNING 23-07-13 21:56:44.6767 EDT gradient_boosted_trees.cc:1818] \"goss_alpha\" set but \"sampling_method\" not equal to \"GOSS\".\n",
      "[WARNING 23-07-13 21:56:44.6768 EDT gradient_boosted_trees.cc:1829] \"goss_beta\" set but \"sampling_method\" not equal to \"GOSS\".\n",
      "[WARNING 23-07-13 21:56:44.6768 EDT gradient_boosted_trees.cc:1843] \"selective_gradient_boosting_ratio\" set but \"sampling_method\" not equal to \"SELGB\".\n"
     ]
    },
    {
     "name": "stdout",
     "output_type": "stream",
     "text": [
      "i:99\n"
     ]
    },
    {
     "name": "stderr",
     "output_type": "stream",
     "text": [
      "[INFO 23-07-13 21:56:45.1663 EDT kernel.cc:1243] Loading model from path /var/folders/wp/s6hl_fl57tnf8_1_ndx9w4hw0000gn/T/tmp362dau86/model/ with prefix 1256d471deff4d53\n",
      "[INFO 23-07-13 21:56:45.1765 EDT kernel.cc:1075] Use fast generic engine\n"
     ]
    },
    {
     "name": "stdout",
     "output_type": "stream",
     "text": [
      "Submission exported to https://www.kaggle.com/competitions/titanic/submissions\n"
     ]
    }
   ],
   "source": [
    "predictions = None\n",
    "num_predictions = 0\n",
    "\n",
    "for i in range(100):\n",
    "    print(f\"i:{i}\")\n",
    "    # Possible models: GradientBoostedTreesModel or RandomForestModel\n",
    "    model = tfdf.keras.GradientBoostedTreesModel(\n",
    "        verbose=0, # Very few logs\n",
    "        features=[tfdf.keras.FeatureUsage(name=n) for n in input_features],\n",
    "        exclude_non_specified_features=True, # Only use the features in \"features\"\n",
    "\n",
    "        #min_examples=1,\n",
    "        #categorical_algorithm=\"RANDOM\",\n",
    "        ##max_depth=4,\n",
    "        #shrinkage=0.05,\n",
    "        ##num_candidate_attributes_ratio=0.2,\n",
    "        #split_axis=\"SPARSE_OBLIQUE\",\n",
    "        #sparse_oblique_normalization=\"MIN_MAX\",\n",
    "        #sparse_oblique_num_projections_exponent=2.0,\n",
    "        #num_trees=2000,\n",
    "        ##validation_ratio=0.0,\n",
    "        random_seed=i,\n",
    "        honest=True,\n",
    "    )\n",
    "    model.fit(train_ds)\n",
    "    \n",
    "    sub_predictions = model.predict(serving_ds, verbose=0)[:,0]\n",
    "    if predictions is None:\n",
    "        predictions = sub_predictions\n",
    "    else:\n",
    "        predictions += sub_predictions\n",
    "    num_predictions += 1\n",
    "\n",
    "predictions/=num_predictions\n",
    "\n",
    "kaggle_predictions = pd.DataFrame({\n",
    "        \"PassengerId\": serving_df[\"PassengerId\"],\n",
    "        \"Survived\": (predictions >= 0.5).astype(int)\n",
    "    })\n",
    "\n",
    "make_submission(kaggle_predictions)"
   ]
  }
 ],
 "metadata": {
  "kernelspec": {
   "display_name": "Python 3 (ipykernel)",
   "language": "python",
   "name": "python3"
  },
  "language_info": {
   "codemirror_mode": {
    "name": "ipython",
    "version": 3
   },
   "file_extension": ".py",
   "mimetype": "text/x-python",
   "name": "python",
   "nbconvert_exporter": "python",
   "pygments_lexer": "ipython3",
   "version": "3.8.16"
  }
 },
 "nbformat": 4,
 "nbformat_minor": 5
}
